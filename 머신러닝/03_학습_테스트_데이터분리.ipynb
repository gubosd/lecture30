{
 "cells": [
  {
   "cell_type": "markdown",
   "id": "8a401b2e",
   "metadata": {},
   "source": [
    "## 머신러닝\n",
    "# 학습/테스트 데이터 분리\n",
    "- 훈련시에는 훈련데이터 사용\n",
    "- 평가/검증 시에는 테스트데이터 사용\n",
    "- 훈련된 모델을 공정하게 평가하기 위함 (훈련시 사용한 데이터로 모델을 검증하는 건 공정하지 못함)"
   ]
  },
  {
   "cell_type": "code",
   "execution_count": 2,
   "id": "9b000429",
   "metadata": {},
   "outputs": [],
   "source": [
    "import numpy as np\n",
    "import pandas as pd\n",
    "import matplotlib.pyplot as plt"
   ]
  },
  {
   "cell_type": "markdown",
   "id": "a4f628b3",
   "metadata": {},
   "source": [
    "### 데이터 불러오기"
   ]
  },
  {
   "cell_type": "code",
   "execution_count": 3,
   "id": "87f80e7b",
   "metadata": {},
   "outputs": [],
   "source": [
    "from sklearn.datasets import load_boston"
   ]
  },
  {
   "cell_type": "code",
   "execution_count": 4,
   "id": "17adc06a",
   "metadata": {},
   "outputs": [],
   "source": [
    "boston = load_boston()"
   ]
  },
  {
   "cell_type": "code",
   "execution_count": 5,
   "id": "b8f1f219",
   "metadata": {},
   "outputs": [
    {
     "data": {
      "text/plain": [
       "(506, 13)"
      ]
     },
     "execution_count": 5,
     "metadata": {},
     "output_type": "execute_result"
    }
   ],
   "source": [
    "boston.data.shape"
   ]
  },
  {
   "cell_type": "code",
   "execution_count": 6,
   "id": "2edd45b4",
   "metadata": {
    "scrolled": true
   },
   "outputs": [
    {
     "data": {
      "text/plain": [
       "array([24. , 21.6, 34.7, 33.4, 36.2, 28.7, 22.9, 27.1, 16.5, 18.9, 15. ,\n",
       "       18.9, 21.7, 20.4, 18.2, 19.9, 23.1, 17.5, 20.2, 18.2, 13.6, 19.6,\n",
       "       15.2, 14.5, 15.6, 13.9, 16.6, 14.8, 18.4, 21. , 12.7, 14.5, 13.2,\n",
       "       13.1, 13.5, 18.9, 20. , 21. , 24.7, 30.8, 34.9, 26.6, 25.3, 24.7,\n",
       "       21.2, 19.3, 20. , 16.6, 14.4, 19.4, 19.7, 20.5, 25. , 23.4, 18.9,\n",
       "       35.4, 24.7, 31.6, 23.3, 19.6, 18.7, 16. , 22.2, 25. , 33. , 23.5,\n",
       "       19.4, 22. , 17.4, 20.9, 24.2, 21.7, 22.8, 23.4, 24.1, 21.4, 20. ,\n",
       "       20.8, 21.2, 20.3, 28. , 23.9, 24.8, 22.9, 23.9, 26.6, 22.5, 22.2,\n",
       "       23.6, 28.7, 22.6, 22. , 22.9, 25. , 20.6, 28.4, 21.4, 38.7, 43.8,\n",
       "       33.2, 27.5, 26.5, 18.6, 19.3, 20.1, 19.5, 19.5, 20.4, 19.8, 19.4,\n",
       "       21.7, 22.8, 18.8, 18.7, 18.5, 18.3, 21.2, 19.2, 20.4, 19.3, 22. ,\n",
       "       20.3, 20.5, 17.3, 18.8, 21.4, 15.7, 16.2, 18. , 14.3, 19.2, 19.6,\n",
       "       23. , 18.4, 15.6, 18.1, 17.4, 17.1, 13.3, 17.8, 14. , 14.4, 13.4,\n",
       "       15.6, 11.8, 13.8, 15.6, 14.6, 17.8, 15.4, 21.5, 19.6, 15.3, 19.4,\n",
       "       17. , 15.6, 13.1, 41.3, 24.3, 23.3, 27. , 50. , 50. , 50. , 22.7,\n",
       "       25. , 50. , 23.8, 23.8, 22.3, 17.4, 19.1, 23.1, 23.6, 22.6, 29.4,\n",
       "       23.2, 24.6, 29.9, 37.2, 39.8, 36.2, 37.9, 32.5, 26.4, 29.6, 50. ,\n",
       "       32. , 29.8, 34.9, 37. , 30.5, 36.4, 31.1, 29.1, 50. , 33.3, 30.3,\n",
       "       34.6, 34.9, 32.9, 24.1, 42.3, 48.5, 50. , 22.6, 24.4, 22.5, 24.4,\n",
       "       20. , 21.7, 19.3, 22.4, 28.1, 23.7, 25. , 23.3, 28.7, 21.5, 23. ,\n",
       "       26.7, 21.7, 27.5, 30.1, 44.8, 50. , 37.6, 31.6, 46.7, 31.5, 24.3,\n",
       "       31.7, 41.7, 48.3, 29. , 24. , 25.1, 31.5, 23.7, 23.3, 22. , 20.1,\n",
       "       22.2, 23.7, 17.6, 18.5, 24.3, 20.5, 24.5, 26.2, 24.4, 24.8, 29.6,\n",
       "       42.8, 21.9, 20.9, 44. , 50. , 36. , 30.1, 33.8, 43.1, 48.8, 31. ,\n",
       "       36.5, 22.8, 30.7, 50. , 43.5, 20.7, 21.1, 25.2, 24.4, 35.2, 32.4,\n",
       "       32. , 33.2, 33.1, 29.1, 35.1, 45.4, 35.4, 46. , 50. , 32.2, 22. ,\n",
       "       20.1, 23.2, 22.3, 24.8, 28.5, 37.3, 27.9, 23.9, 21.7, 28.6, 27.1,\n",
       "       20.3, 22.5, 29. , 24.8, 22. , 26.4, 33.1, 36.1, 28.4, 33.4, 28.2,\n",
       "       22.8, 20.3, 16.1, 22.1, 19.4, 21.6, 23.8, 16.2, 17.8, 19.8, 23.1,\n",
       "       21. , 23.8, 23.1, 20.4, 18.5, 25. , 24.6, 23. , 22.2, 19.3, 22.6,\n",
       "       19.8, 17.1, 19.4, 22.2, 20.7, 21.1, 19.5, 18.5, 20.6, 19. , 18.7,\n",
       "       32.7, 16.5, 23.9, 31.2, 17.5, 17.2, 23.1, 24.5, 26.6, 22.9, 24.1,\n",
       "       18.6, 30.1, 18.2, 20.6, 17.8, 21.7, 22.7, 22.6, 25. , 19.9, 20.8,\n",
       "       16.8, 21.9, 27.5, 21.9, 23.1, 50. , 50. , 50. , 50. , 50. , 13.8,\n",
       "       13.8, 15. , 13.9, 13.3, 13.1, 10.2, 10.4, 10.9, 11.3, 12.3,  8.8,\n",
       "        7.2, 10.5,  7.4, 10.2, 11.5, 15.1, 23.2,  9.7, 13.8, 12.7, 13.1,\n",
       "       12.5,  8.5,  5. ,  6.3,  5.6,  7.2, 12.1,  8.3,  8.5,  5. , 11.9,\n",
       "       27.9, 17.2, 27.5, 15. , 17.2, 17.9, 16.3,  7. ,  7.2,  7.5, 10.4,\n",
       "        8.8,  8.4, 16.7, 14.2, 20.8, 13.4, 11.7,  8.3, 10.2, 10.9, 11. ,\n",
       "        9.5, 14.5, 14.1, 16.1, 14.3, 11.7, 13.4,  9.6,  8.7,  8.4, 12.8,\n",
       "       10.5, 17.1, 18.4, 15.4, 10.8, 11.8, 14.9, 12.6, 14.1, 13. , 13.4,\n",
       "       15.2, 16.1, 17.8, 14.9, 14.1, 12.7, 13.5, 14.9, 20. , 16.4, 17.7,\n",
       "       19.5, 20.2, 21.4, 19.9, 19. , 19.1, 19.1, 20.1, 19.9, 19.6, 23.2,\n",
       "       29.8, 13.8, 13.3, 16.7, 12. , 14.6, 21.4, 23. , 23.7, 25. , 21.8,\n",
       "       20.6, 21.2, 19.1, 20.6, 15.2,  7. ,  8.1, 13.6, 20.1, 21.8, 24.5,\n",
       "       23.1, 19.7, 18.3, 21.2, 17.5, 16.8, 22.4, 20.6, 23.9, 22. , 11.9])"
      ]
     },
     "execution_count": 6,
     "metadata": {},
     "output_type": "execute_result"
    }
   ],
   "source": [
    "boston.target"
   ]
  },
  {
   "cell_type": "markdown",
   "id": "0b11e266",
   "metadata": {},
   "source": [
    "### 학습/테스트 데이터 분리 적용"
   ]
  },
  {
   "cell_type": "code",
   "execution_count": 7,
   "id": "4c53e024",
   "metadata": {},
   "outputs": [],
   "source": [
    "from sklearn.model_selection import train_test_split"
   ]
  },
  {
   "cell_type": "code",
   "execution_count": 13,
   "id": "4b3d7103",
   "metadata": {},
   "outputs": [],
   "source": [
    "X_train, X_test, y_train, y_test = train_test_split(boston.data, boston.target)"
   ]
  },
  {
   "cell_type": "code",
   "execution_count": 14,
   "id": "0b23ef38",
   "metadata": {},
   "outputs": [
    {
     "data": {
      "text/plain": [
       "((379, 13), (127, 13), (379,), (127,))"
      ]
     },
     "execution_count": 14,
     "metadata": {},
     "output_type": "execute_result"
    }
   ],
   "source": [
    "X_train.shape, X_test.shape, y_train.shape, y_test.shape"
   ]
  },
  {
   "cell_type": "code",
   "execution_count": 15,
   "id": "434f4642",
   "metadata": {},
   "outputs": [
    {
     "data": {
      "text/plain": [
       "0.2509881422924901"
      ]
     },
     "execution_count": 15,
     "metadata": {},
     "output_type": "execute_result"
    }
   ],
   "source": [
    "127/506 # 25% 를 테스트 데이터로 할당함"
   ]
  },
  {
   "cell_type": "code",
   "execution_count": null,
   "id": "bc1872ac",
   "metadata": {},
   "outputs": [],
   "source": []
  },
  {
   "cell_type": "code",
   "execution_count": 16,
   "id": "d6b38bc5",
   "metadata": {},
   "outputs": [],
   "source": [
    "X_train, X_test, y_train, y_test = train_test_split(boston.data, boston.target,\n",
    "                                        test_size=0.3, shuffle=True)"
   ]
  },
  {
   "cell_type": "code",
   "execution_count": 17,
   "id": "73c80558",
   "metadata": {},
   "outputs": [
    {
     "data": {
      "text/plain": [
       "((354, 13), (152, 13), (354,), (152,))"
      ]
     },
     "execution_count": 17,
     "metadata": {},
     "output_type": "execute_result"
    }
   ],
   "source": [
    "X_train.shape, X_test.shape, y_train.shape, y_test.shape"
   ]
  },
  {
   "cell_type": "code",
   "execution_count": 18,
   "id": "8f2cbf06",
   "metadata": {},
   "outputs": [
    {
     "data": {
      "text/plain": [
       "0.30039525691699603"
      ]
     },
     "execution_count": 18,
     "metadata": {},
     "output_type": "execute_result"
    }
   ],
   "source": [
    "152/506"
   ]
  },
  {
   "cell_type": "markdown",
   "id": "926c52ba",
   "metadata": {},
   "source": [
    "### 데이터 정규화\n",
    "- 학습데이터의 평균과 표준편차로 테스트데이터를 정규화하는게 일반적임"
   ]
  },
  {
   "cell_type": "code",
   "execution_count": 19,
   "id": "703907ff",
   "metadata": {},
   "outputs": [
    {
     "data": {
      "text/plain": [
       "(array([3.34994895e+00, 1.12768362e+01, 1.11189266e+01, 7.34463277e-02,\n",
       "        5.56562429e-01, 6.30139548e+00, 6.87920904e+01, 3.72692825e+00,\n",
       "        9.09322034e+00, 4.06629944e+02, 1.84158192e+01, 3.56583305e+02,\n",
       "        1.26121751e+01]),\n",
       " array([7.95228519e+00, 2.32361295e+01, 6.88821260e+00, 2.60867715e-01,\n",
       "        1.17446337e-01, 7.11953735e-01, 2.79214191e+01, 2.05070530e+00,\n",
       "        8.43015902e+00, 1.63586762e+02, 2.17853642e+00, 9.11361737e+01,\n",
       "        7.10161763e+00]))"
      ]
     },
     "execution_count": 19,
     "metadata": {},
     "output_type": "execute_result"
    }
   ],
   "source": [
    "m = X_train.mean(axis=0)\n",
    "s = X_train.std(axis=0)\n",
    "m, s"
   ]
  },
  {
   "cell_type": "code",
   "execution_count": 20,
   "id": "97b7f51e",
   "metadata": {},
   "outputs": [
    {
     "data": {
      "text/plain": [
       "((354, 13), (152, 13))"
      ]
     },
     "execution_count": 20,
     "metadata": {},
     "output_type": "execute_result"
    }
   ],
   "source": [
    "X_train_norm = (X_train - m) / s\n",
    "X_test_norm = (X_test - m) / s\n",
    "\n",
    "X_train_norm.shape, X_test_norm.shape"
   ]
  },
  {
   "cell_type": "code",
   "execution_count": 22,
   "id": "77664b9b",
   "metadata": {},
   "outputs": [
    {
     "data": {
      "image/png": "[encoded data removed]",
      "text/plain": [
       "<Figure size 432x288 with 1 Axes>"
      ]
     },
     "metadata": {
      "needs_background": "light"
     },
     "output_type": "display_data"
    }
   ],
   "source": [
    "plt.boxplot(X_train_norm)\n",
    "pass"
   ]
  },
  {
   "cell_type": "code",
   "execution_count": 23,
   "id": "f6ebaf2f",
   "metadata": {},
   "outputs": [
    {
     "data": {
      "image/png": "[encoded data removed]",
      "text/plain": [
       "<Figure size 432x288 with 1 Axes>"
      ]
     },
     "metadata": {
      "needs_background": "light"
     },
     "output_type": "display_data"
    }
   ],
   "source": [
    "plt.boxplot(X_test_norm)\n",
    "pass"
   ]
  },
  {
   "cell_type": "code",
   "execution_count": null,
   "id": "80704b14",
   "metadata": {},
   "outputs": [],
   "source": []
  },
  {
   "cell_type": "markdown",
   "id": "30330dda",
   "metadata": {},
   "source": [
    "### 선형회귀 훈련\n",
    "- 학습데이터로 훈련"
   ]
  },
  {
   "cell_type": "code",
   "execution_count": 24,
   "id": "9c90b5bb",
   "metadata": {},
   "outputs": [],
   "source": [
    "from sklearn.linear_model import LinearRegression"
   ]
  },
  {
   "cell_type": "code",
   "execution_count": 25,
   "id": "7db52e99",
   "metadata": {},
   "outputs": [],
   "source": [
    "model = LinearRegression()"
   ]
  },
  {
   "cell_type": "code",
   "execution_count": 28,
   "id": "ce487fed",
   "metadata": {},
   "outputs": [
    {
     "data": {
      "text/plain": [
       "LinearRegression()"
      ]
     },
     "execution_count": 28,
     "metadata": {},
     "output_type": "execute_result"
    }
   ],
   "source": [
    "model.fit(X_train_norm, y_train) # X_train_norm 과 y_train 을 사용"
   ]
  },
  {
   "cell_type": "code",
   "execution_count": null,
   "id": "8cb4a8b1",
   "metadata": {},
   "outputs": [],
   "source": []
  },
  {
   "cell_type": "markdown",
   "id": "f61406a0",
   "metadata": {},
   "source": [
    "### 훈련결과 평가\n",
    "- 테스트데이터로 평가 및 검증"
   ]
  },
  {
   "cell_type": "code",
   "execution_count": 29,
   "id": "34963d3d",
   "metadata": {},
   "outputs": [],
   "source": [
    "y_pred = model.predict(X_test_norm) # X_test_norm 을 사용"
   ]
  },
  {
   "cell_type": "code",
   "execution_count": 30,
   "id": "22339cf8",
   "metadata": {},
   "outputs": [
    {
     "data": {
      "text/plain": [
       "<matplotlib.legend.Legend at 0x14604873d30>"
      ]
     },
     "execution_count": 30,
     "metadata": {},
     "output_type": "execute_result"
    },
    {
     "data": {
      "image/png": "[encoded data removed]",
      "text/plain": [
       "<Figure size 432x288 with 1 Axes>"
      ]
     },
     "metadata": {
      "needs_background": "light"
     },
     "output_type": "display_data"
    }
   ],
   "source": [
    "plt.plot(y_test) # y_test 사용\n",
    "plt.plot(y_pred)\n",
    "plt.legend(['y_test', 'y_pred'])"
   ]
  },
  {
   "cell_type": "code",
   "execution_count": 31,
   "id": "d7dc83ed",
   "metadata": {},
   "outputs": [
    {
     "data": {
      "text/plain": [
       "26.263201877328385"
      ]
     },
     "execution_count": 31,
     "metadata": {},
     "output_type": "execute_result"
    }
   ],
   "source": [
    "### mean squared error\n",
    "mse = ((y_test-y_pred)**2).mean()\n",
    "mse"
   ]
  },
  {
   "cell_type": "code",
   "execution_count": 32,
   "id": "bc0dda2a",
   "metadata": {},
   "outputs": [
    {
     "data": {
      "text/plain": [
       "3.44819023463448"
      ]
     },
     "execution_count": 32,
     "metadata": {},
     "output_type": "execute_result"
    }
   ],
   "source": [
    "### mean absolute error\n",
    "mae = np.abs(y_test-y_pred).mean()\n",
    "mae"
   ]
  },
  {
   "cell_type": "code",
   "execution_count": 33,
   "id": "03c22d70",
   "metadata": {},
   "outputs": [
    {
     "data": {
      "text/plain": [
       "0.6793934802421326"
      ]
     },
     "execution_count": 33,
     "metadata": {},
     "output_type": "execute_result"
    }
   ],
   "source": [
    "### coefficient of determination `R^2`\n",
    "model.score(X_test_norm, y_test)"
   ]
  },
  {
   "cell_type": "code",
   "execution_count": null,
   "id": "657b652a",
   "metadata": {},
   "outputs": [],
   "source": []
  },
  {
   "cell_type": "markdown",
   "id": "b114f71d",
   "metadata": {},
   "source": [
    "- 훈련데이터로 예측\n",
    "> 테스트데이터에 비해 오차가 적다 (훈련시 경험한 데이터이므로)"
   ]
  },
  {
   "cell_type": "code",
   "execution_count": 34,
   "id": "fb83405f",
   "metadata": {},
   "outputs": [],
   "source": [
    "y_pred_train = model.predict(X_train_norm)"
   ]
  },
  {
   "cell_type": "code",
   "execution_count": 35,
   "id": "def823f4",
   "metadata": {},
   "outputs": [
    {
     "data": {
      "text/plain": [
       "20.848449385742423"
      ]
     },
     "execution_count": 35,
     "metadata": {},
     "output_type": "execute_result"
    }
   ],
   "source": [
    "### mean squared error\n",
    "mse = ((y_train - y_pred_train)**2).mean()\n",
    "mse"
   ]
  },
  {
   "cell_type": "code",
   "execution_count": 37,
   "id": "8bd91df3",
   "metadata": {},
   "outputs": [
    {
     "data": {
      "text/plain": [
       "3.2944248602089496"
      ]
     },
     "execution_count": 37,
     "metadata": {},
     "output_type": "execute_result"
    }
   ],
   "source": [
    "### mean absolute error\n",
    "mae = np.abs(y_train - y_pred_train).mean()\n",
    "mae"
   ]
  },
  {
   "cell_type": "code",
   "execution_count": 38,
   "id": "b4019b64",
   "metadata": {},
   "outputs": [
    {
     "data": {
      "text/plain": [
       "0.7555041274553724"
      ]
     },
     "execution_count": 38,
     "metadata": {},
     "output_type": "execute_result"
    }
   ],
   "source": [
    "### coefficient of determination `R^2`\n",
    "model.score(X_train_norm, y_train)"
   ]
  },
  {
   "cell_type": "code",
   "execution_count": null,
   "id": "aa4d74fa",
   "metadata": {},
   "outputs": [],
   "source": []
  },
  {
   "cell_type": "markdown",
   "id": "2a904ce4",
   "metadata": {},
   "source": [
    "### (참고) 분리된 데이터의 원본번호를 아는 방법"
   ]
  },
  {
   "cell_type": "code",
   "execution_count": 49,
   "id": "1482f95a",
   "metadata": {},
   "outputs": [],
   "source": [
    "X_train, X_test, y_train, y_test, idx_train, idx_test = \\\n",
    "            train_test_split(boston.data, boston.target, np.arange(506))"
   ]
  },
  {
   "cell_type": "code",
   "execution_count": 50,
   "id": "7d6af71a",
   "metadata": {},
   "outputs": [
    {
     "data": {
      "text/plain": [
       "((379, 13), (127, 13), (379,), (127,), (379,), (127,))"
      ]
     },
     "execution_count": 50,
     "metadata": {},
     "output_type": "execute_result"
    }
   ],
   "source": [
    "X_train.shape, X_test.shape, y_train.shape, y_test.shape, \\\n",
    "        idx_train.shape, idx_test.shape"
   ]
  },
  {
   "cell_type": "code",
   "execution_count": 51,
   "id": "3503cbf5",
   "metadata": {
    "scrolled": true
   },
   "outputs": [
    {
     "data": {
      "text/plain": [
       "array([148, 210, 385, 205, 286, 302,  80,  79,  30, 499, 314, 254,  57,\n",
       "       126,  20, 305, 197, 482, 503, 301,  12,   7, 285,  95, 263, 366,\n",
       "       332,  29, 161,   8, 469,  28, 272, 380, 186, 112, 283, 131,  71,\n",
       "       234, 299, 237, 133, 389, 374,   4, 184,  21, 198, 139, 140, 472,\n",
       "        70, 399, 417, 290, 116, 119, 105, 216, 309, 442, 464,  74, 238,\n",
       "       336, 455, 262, 146, 352,  64,   6, 316, 200,  81,   3, 341, 128,\n",
       "       310, 202, 115, 279,  58, 125, 106, 248, 486, 329, 235, 415, 393,\n",
       "       228, 178, 428,  83, 356, 163, 231, 203, 273, 395, 462, 376, 449,\n",
       "       121, 252,  33, 166, 480, 337, 453, 143,  19, 149, 240, 326,  84,\n",
       "       362,  31,  17, 346, 130, 113, 257, 207, 474, 367,  75,  52, 448,\n",
       "        99, 175, 110, 152, 430, 406, 437, 220,  94, 250,  42, 217, 365,\n",
       "       490, 402, 319, 155, 222,  47, 473, 452, 391, 335, 370, 379, 363,\n",
       "       259,  13, 454, 340, 236,   5, 169, 435,  65, 355, 201, 144, 189,\n",
       "       180, 343, 253, 204,  43, 457,  63, 100, 432, 409, 492, 138,  59,\n",
       "       267, 364, 456, 418, 167, 168, 424, 458, 209, 349, 315, 195, 233,\n",
       "       421, 347, 481, 153, 459, 433, 111, 129, 154,  14,  78, 164,  91,\n",
       "       270, 342, 287, 117,  82,  60, 479, 136, 495, 145, 392, 268, 466,\n",
       "       444, 275, 339, 218, 292, 360, 477, 266, 398, 348, 400,  56,  26,\n",
       "       171, 147, 212, 423, 321, 101, 420, 242, 124, 371, 293, 230, 441,\n",
       "        87, 182,  27, 213,  35, 439,  55, 183,  24,  76, 223, 460, 412,\n",
       "       377, 447, 103, 211, 311, 229,  92, 313, 172, 359, 353, 208, 194,\n",
       "       224, 215, 308, 173, 344,   0, 414, 193, 493, 137, 318, 350, 488,\n",
       "       478, 162,  53, 298, 489, 123, 351, 247, 476, 158, 159, 255, 232,\n",
       "       328, 483, 289, 295, 333, 280, 271, 396, 157,  89, 443, 426,  67,\n",
       "       498,  37, 338,  45, 245, 249, 179,   9, 431, 192,   1, 330,  68,\n",
       "        44, 410, 196, 384, 191,  40, 403, 199, 281, 327, 322,  10,  88,\n",
       "       239, 187, 440, 291, 354, 450,  25, 416, 251, 150,  62,  39, 160,\n",
       "       165, 241, 485, 438, 297, 494, 378, 176, 401, 408,  54, 323, 122,\n",
       "        41,  34,  18, 227, 502, 505, 288,  15, 368, 306, 404, 108,  23,\n",
       "        73, 411])"
      ]
     },
     "execution_count": 51,
     "metadata": {},
     "output_type": "execute_result"
    }
   ],
   "source": [
    "idx_train"
   ]
  },
  {
   "cell_type": "code",
   "execution_count": 52,
   "id": "b2019869",
   "metadata": {},
   "outputs": [
    {
     "data": {
      "text/plain": [
       "array([ 51, 445, 381, 276, 390, 265, 214, 345, 264, 331,  11,  72, 258,\n",
       "       243, 317, 427, 312, 497, 221, 141, 471, 436, 142,  98, 429, 325,\n",
       "       451, 284, 174, 296, 491, 446, 375, 156, 434, 206, 294,  85, 188,\n",
       "       461, 102, 383, 177, 388,  49,   2, 419, 468, 386, 261, 118, 134,\n",
       "       219, 504,  77, 425, 269, 373, 487,  46, 484, 132, 190, 361, 303,\n",
       "       413, 463, 151,  16, 107, 334, 226, 324, 181, 277, 369,  32, 225,\n",
       "       185, 320, 300,  66, 387,  50, 127, 394,  61, 422, 358, 120,  22,\n",
       "       274, 282, 496, 246, 397, 278, 256, 500, 357, 407, 135, 114,  97,\n",
       "        93, 244,  36, 467, 104,  38, 307, 465, 304, 382, 405,  86, 501,\n",
       "       109, 372,  96, 170, 470,  48,  90, 475,  69, 260])"
      ]
     },
     "execution_count": 52,
     "metadata": {},
     "output_type": "execute_result"
    }
   ],
   "source": [
    "idx_test"
   ]
  },
  {
   "cell_type": "code",
   "execution_count": null,
   "id": "2be0039d",
   "metadata": {},
   "outputs": [],
   "source": []
  }
 ],
 "metadata": {
  "kernelspec": {
   "display_name": "Python 3",
   "language": "python",
   "name": "python3"
  },
  "language_info": {
   "codemirror_mode": {
    "name": "ipython",
    "version": 3
   },
   "file_extension": ".py",
   "mimetype": "text/x-python",
   "name": "python",
   "nbconvert_exporter": "python",
   "pygments_lexer": "ipython3",
   "version": "3.8.8"
  }
 },
 "nbformat": 4,
 "nbformat_minor": 5
}
