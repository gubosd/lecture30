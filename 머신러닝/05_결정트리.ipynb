{
 "cells": [
  {
   "cell_type": "markdown",
   "id": "81f8846f",
   "metadata": {},
   "source": [
    "## 머신러닝\n",
    "# 결정트리 (Decision Tree)"
   ]
  },
  {
   "cell_type": "code",
   "execution_count": 1,
   "id": "70d1b18b",
   "metadata": {},
   "outputs": [],
   "source": [
    "import numpy as np\n",
    "import pandas as pd\n",
    "import matplotlib.pyplot as plt"
   ]
  },
  {
   "cell_type": "markdown",
   "id": "5ad27872",
   "metadata": {},
   "source": [
    "### Iris 데이터 불러오기"
   ]
  },
  {
   "cell_type": "code",
   "execution_count": 2,
   "id": "d8c5eb5b",
   "metadata": {},
   "outputs": [],
   "source": [
    "from sklearn.datasets import load_iris\n",
    "\n",
    "iris = load_iris()"
   ]
  },
  {
   "cell_type": "code",
   "execution_count": 3,
   "id": "875b7dfe",
   "metadata": {},
   "outputs": [
    {
     "data": {
      "text/plain": [
       "((150, 4), (150,))"
      ]
     },
     "execution_count": 3,
     "metadata": {},
     "output_type": "execute_result"
    }
   ],
   "source": [
    "iris.data.shape, iris.target.shape"
   ]
  },
  {
   "cell_type": "code",
   "execution_count": 4,
   "id": "cedef442",
   "metadata": {},
   "outputs": [
    {
     "data": {
      "text/plain": [
       "['sepal length (cm)',\n",
       " 'sepal width (cm)',\n",
       " 'petal length (cm)',\n",
       " 'petal width (cm)']"
      ]
     },
     "execution_count": 4,
     "metadata": {},
     "output_type": "execute_result"
    }
   ],
   "source": [
    "iris.feature_names"
   ]
  },
  {
   "cell_type": "code",
   "execution_count": 5,
   "id": "c62d54b1",
   "metadata": {},
   "outputs": [
    {
     "data": {
      "text/plain": [
       "array(['setosa', 'versicolor', 'virginica'], dtype='<U10')"
      ]
     },
     "execution_count": 5,
     "metadata": {},
     "output_type": "execute_result"
    }
   ],
   "source": [
    "iris.target_names"
   ]
  },
  {
   "cell_type": "markdown",
   "id": "8e25f58a",
   "metadata": {},
   "source": [
    "### 해결하려는 문제는 무엇인가?\n",
    "> sepal_width 와 petal_length 속성값을 이용해 versicolor/virginica 품종을 맞추고(예측하고) 싶다"
   ]
  },
  {
   "cell_type": "code",
   "execution_count": 68,
   "id": "ded690a6",
   "metadata": {},
   "outputs": [
    {
     "data": {
      "text/plain": [
       "(100, 2)"
      ]
     },
     "execution_count": 68,
     "metadata": {},
     "output_type": "execute_result"
    }
   ],
   "source": [
    "X = iris.data[50:, [1,2]]\n",
    "X.shape"
   ]
  },
  {
   "cell_type": "code",
   "execution_count": 69,
   "id": "9dfe896a",
   "metadata": {},
   "outputs": [
    {
     "data": {
      "text/plain": [
       "array([0, 0, 0, 0, 0, 0, 0, 0, 0, 0, 0, 0, 0, 0, 0, 0, 0, 0, 0, 0, 0, 0,\n",
       "       0, 0, 0, 0, 0, 0, 0, 0, 0, 0, 0, 0, 0, 0, 0, 0, 0, 0, 0, 0, 0, 0,\n",
       "       0, 0, 0, 0, 0, 0, 1, 1, 1, 1, 1, 1, 1, 1, 1, 1, 1, 1, 1, 1, 1, 1,\n",
       "       1, 1, 1, 1, 1, 1, 1, 1, 1, 1, 1, 1, 1, 1, 1, 1, 1, 1, 1, 1, 1, 1,\n",
       "       1, 1, 1, 1, 1, 1, 1, 1, 1, 1, 1, 1])"
      ]
     },
     "execution_count": 69,
     "metadata": {},
     "output_type": "execute_result"
    }
   ],
   "source": [
    "y = np.array([0]*50 + [1]*50) # 0: versicolor, 1: virginica\n",
    "y                             # 목표값이 0과 1로 되어있는지 확인하자"
   ]
  },
  {
   "cell_type": "code",
   "execution_count": 70,
   "id": "fc270042",
   "metadata": {},
   "outputs": [
    {
     "data": {
      "text/plain": [
       "Text(0, 0.5, 'petal_length')"
      ]
     },
     "execution_count": 70,
     "metadata": {},
     "output_type": "execute_result"
    },
    {
     "data": {
      "image/png": "[encoded data removed]",
      "text/plain": [
       "<Figure size 432x288 with 2 Axes>"
      ]
     },
     "metadata": {
      "needs_background": "light"
     },
     "output_type": "display_data"
    }
   ],
   "source": [
    "plt.scatter(X[:,0], X[:,1], c=y)\n",
    "plt.colorbar()\n",
    "plt.xlabel('sepal_width')\n",
    "plt.ylabel('petal_length')"
   ]
  },
  {
   "cell_type": "markdown",
   "id": "7c677abe",
   "metadata": {},
   "source": [
    "### 결정트리 적용"
   ]
  },
  {
   "cell_type": "code",
   "execution_count": 23,
   "id": "a50aaa14",
   "metadata": {},
   "outputs": [],
   "source": [
    "from sklearn.tree import DecisionTreeClassifier"
   ]
  },
  {
   "cell_type": "code",
   "execution_count": 24,
   "id": "4cca3bff",
   "metadata": {},
   "outputs": [],
   "source": [
    "model = DecisionTreeClassifier()"
   ]
  },
  {
   "cell_type": "code",
   "execution_count": 25,
   "id": "2dd9a065",
   "metadata": {},
   "outputs": [
    {
     "data": {
      "text/plain": [
       "DecisionTreeClassifier()"
      ]
     },
     "execution_count": 25,
     "metadata": {},
     "output_type": "execute_result"
    }
   ],
   "source": [
    "model.fit(X, y)"
   ]
  },
  {
   "cell_type": "code",
   "execution_count": 26,
   "id": "450ea6dc",
   "metadata": {},
   "outputs": [
    {
     "data": {
      "text/plain": [
       "array([0, 0, 0, 0, 0, 0, 0, 0, 0, 0, 0, 0, 0, 0, 0, 0, 0, 0, 0, 0, 0, 0,\n",
       "       0, 0, 0, 0, 0, 0, 0, 0, 0, 0, 0, 1, 0, 0, 0, 0, 0, 0, 0, 0, 0, 0,\n",
       "       0, 0, 0, 0, 0, 0, 1, 1, 1, 1, 1, 1, 1, 1, 1, 1, 1, 1, 1, 1, 1, 1,\n",
       "       1, 1, 1, 1, 1, 1, 1, 1, 1, 1, 0, 1, 1, 1, 1, 1, 1, 1, 1, 1, 1, 1,\n",
       "       1, 1, 1, 1, 1, 1, 1, 1, 1, 1, 1, 1])"
      ]
     },
     "execution_count": 26,
     "metadata": {},
     "output_type": "execute_result"
    }
   ],
   "source": [
    "y_pred = model.predict(X)\n",
    "y_pred"
   ]
  },
  {
   "cell_type": "code",
   "execution_count": 27,
   "id": "174e57d9",
   "metadata": {},
   "outputs": [
    {
     "data": {
      "text/plain": [
       "array([0, 0, 0, 0, 0, 0, 0, 0, 0, 0, 0, 0, 0, 0, 0, 0, 0, 0, 0, 0, 0, 0,\n",
       "       0, 0, 0, 0, 0, 0, 0, 0, 0, 0, 0, 0, 0, 0, 0, 0, 0, 0, 0, 0, 0, 0,\n",
       "       0, 0, 0, 0, 0, 0, 1, 1, 1, 1, 1, 1, 1, 1, 1, 1, 1, 1, 1, 1, 1, 1,\n",
       "       1, 1, 1, 1, 1, 1, 1, 1, 1, 1, 1, 1, 1, 1, 1, 1, 1, 1, 1, 1, 1, 1,\n",
       "       1, 1, 1, 1, 1, 1, 1, 1, 1, 1, 1, 1])"
      ]
     },
     "execution_count": 27,
     "metadata": {},
     "output_type": "execute_result"
    }
   ],
   "source": [
    "y"
   ]
  },
  {
   "cell_type": "code",
   "execution_count": 28,
   "id": "f17bbb4f",
   "metadata": {},
   "outputs": [
    {
     "data": {
      "text/plain": [
       "0.98"
      ]
     },
     "execution_count": 28,
     "metadata": {},
     "output_type": "execute_result"
    }
   ],
   "source": [
    "model.score(X, y) # 옳게 분류한 비율점수"
   ]
  },
  {
   "cell_type": "code",
   "execution_count": 31,
   "id": "12885456",
   "metadata": {},
   "outputs": [
    {
     "data": {
      "text/plain": [
       "<matplotlib.legend.Legend at 0x213f4294f70>"
      ]
     },
     "execution_count": 31,
     "metadata": {},
     "output_type": "execute_result"
    },
    {
     "data": {
      "image/png": "[encoded data removed]",
      "text/plain": [
       "<Figure size 720x576 with 1 Axes>"
      ]
     },
     "metadata": {},
     "output_type": "display_data"
    }
   ],
   "source": [
    "import mglearn\n",
    "\n",
    "plt.figure(figsize=[10,8])\n",
    "mglearn.plots.plot_2d_classification(model, X, alpha=0.5)\n",
    "mglearn.discrete_scatter(X[:,0], X[:,1], y)\n",
    "plt.xlabel('sepal width')\n",
    "plt.ylabel('petal length')\n",
    "plt.legend(loc=4)"
   ]
  },
  {
   "cell_type": "markdown",
   "id": "7e609810",
   "metadata": {},
   "source": [
    "### 트리 그리기\n",
    "1. 아나콘다 프롬프터에서, \"pip install graphviz\" 실행\n",
    "2. http://www.graphviz.org 에서 \"graphviz-3.0.0 (64-bit) EXE installer\" 다운로드 및 설치\n",
    "> 설치시, PATH 에 추가 옵션 설정 (설정시 아래 3번은 자동으로 처리됨)\n",
    "3. \"C:\\Program Files\\Graphviz\\bin\" 을 윈도우 PATH 에 추가\n",
    "4. 기존에 떠 있던 아나콘다 프롬프트를 모두 닫고 jupyter notebook 재실행"
   ]
  },
  {
   "cell_type": "code",
   "execution_count": 33,
   "id": "6e9dea0b",
   "metadata": {},
   "outputs": [],
   "source": [
    "from sklearn.tree import export_graphviz\n",
    "\n",
    "export_graphviz(model, out_file='tree.dot', class_names=iris.target_names,\n",
    "                feature_names=['sepal_width','petal_length'], impurity=False, filled=True)"
   ]
  },
  {
   "cell_type": "code",
   "execution_count": 34,
   "id": "96df89e7",
   "metadata": {},
   "outputs": [
    {
     "data": {
      "image/svg+xml": [
       "<?xml version=\"1.0\" encoding=\"UTF-8\" standalone=\"no\"?>\n",
       "<!DOCTYPE svg PUBLIC \"-//W3C//DTD SVG 1.1//EN\"\n",
       " \"http://www.w3.org/Graphics/SVG/1.1/DTD/svg11.dtd\">\n",
       "<!-- Generated by graphviz version 3.0.0 (20220226.1711)\n",
       " -->\n",
       "<!-- Title: Tree Pages: 1 -->\n",
       "<svg width=\"815pt\" height=\"893pt\"\n",
       " viewBox=\"0.00 0.00 815.00 893.00\" xmlns=\"http://www.w3.org/2000/svg\" xmlns:xlink=\"http://www.w3.org/1999/xlink\">\n",
       "<g id=\"graph0\" class=\"graph\" transform=\"scale(1 1) rotate(0) translate(4 889)\">\n",
       "<title>Tree</title>\n",
       "<polygon fill=\"white\" stroke=\"transparent\" points=\"-4,4 -4,-889 811,-889 811,4 -4,4\"/>\n",
       "<!-- 0 -->\n",
       "<g id=\"node1\" class=\"node\">\n",
       "<title>0</title>\n",
       "<polygon fill=\"#ffffff\" stroke=\"black\" points=\"452.5,-885 321.5,-885 321.5,-817 452.5,-817 452.5,-885\"/>\n",
       "<text text-anchor=\"middle\" x=\"387\" y=\"-869.8\" font-family=\"Times New Roman,serif\" font-size=\"14.00\">petal_length &lt;= 4.75</text>\n",
       "<text text-anchor=\"middle\" x=\"387\" y=\"-854.8\" font-family=\"Times New Roman,serif\" font-size=\"14.00\">samples = 100</text>\n",
       "<text text-anchor=\"middle\" x=\"387\" y=\"-839.8\" font-family=\"Times New Roman,serif\" font-size=\"14.00\">value = [50, 50]</text>\n",
       "<text text-anchor=\"middle\" x=\"387\" y=\"-824.8\" font-family=\"Times New Roman,serif\" font-size=\"14.00\">class = setosa</text>\n",
       "</g>\n",
       "<!-- 1 -->\n",
       "<g id=\"node2\" class=\"node\">\n",
       "<title>1</title>\n",
       "<polygon fill=\"#e6843d\" stroke=\"black\" points=\"378.5,-781 247.5,-781 247.5,-713 378.5,-713 378.5,-781\"/>\n",
       "<text text-anchor=\"middle\" x=\"313\" y=\"-765.8\" font-family=\"Times New Roman,serif\" font-size=\"14.00\">sepal_width &lt;= 2.55</text>\n",
       "<text text-anchor=\"middle\" x=\"313\" y=\"-750.8\" font-family=\"Times New Roman,serif\" font-size=\"14.00\">samples = 45</text>\n",
       "<text text-anchor=\"middle\" x=\"313\" y=\"-735.8\" font-family=\"Times New Roman,serif\" font-size=\"14.00\">value = [44, 1]</text>\n",
       "<text text-anchor=\"middle\" x=\"313\" y=\"-720.8\" font-family=\"Times New Roman,serif\" font-size=\"14.00\">class = setosa</text>\n",
       "</g>\n",
       "<!-- 0&#45;&gt;1 -->\n",
       "<g id=\"edge1\" class=\"edge\">\n",
       "<title>0&#45;&gt;1</title>\n",
       "<path fill=\"none\" stroke=\"black\" d=\"M362.97,-816.88C356.64,-808.15 349.73,-798.62 343.12,-789.51\"/>\n",
       "<polygon fill=\"black\" stroke=\"black\" points=\"345.86,-787.34 337.16,-781.3 340.2,-791.45 345.86,-787.34\"/>\n",
       "<text text-anchor=\"middle\" x=\"333.23\" y=\"-802.29\" font-family=\"Times New Roman,serif\" font-size=\"14.00\">True</text>\n",
       "</g>\n",
       "<!-- 8 -->\n",
       "<g id=\"node9\" class=\"node\">\n",
       "<title>8</title>\n",
       "<polygon fill=\"#51a9e8\" stroke=\"black\" points=\"527.5,-781 396.5,-781 396.5,-713 527.5,-713 527.5,-781\"/>\n",
       "<text text-anchor=\"middle\" x=\"462\" y=\"-765.8\" font-family=\"Times New Roman,serif\" font-size=\"14.00\">petal_length &lt;= 5.05</text>\n",
       "<text text-anchor=\"middle\" x=\"462\" y=\"-750.8\" font-family=\"Times New Roman,serif\" font-size=\"14.00\">samples = 55</text>\n",
       "<text text-anchor=\"middle\" x=\"462\" y=\"-735.8\" font-family=\"Times New Roman,serif\" font-size=\"14.00\">value = [6, 49]</text>\n",
       "<text text-anchor=\"middle\" x=\"462\" y=\"-720.8\" font-family=\"Times New Roman,serif\" font-size=\"14.00\">class = versicolor</text>\n",
       "</g>\n",
       "<!-- 0&#45;&gt;8 -->\n",
       "<g id=\"edge8\" class=\"edge\">\n",
       "<title>0&#45;&gt;8</title>\n",
       "<path fill=\"none\" stroke=\"black\" d=\"M411.35,-816.88C417.77,-808.15 424.78,-798.62 431.48,-789.51\"/>\n",
       "<polygon fill=\"black\" stroke=\"black\" points=\"434.41,-791.43 437.52,-781.3 428.77,-787.28 434.41,-791.43\"/>\n",
       "<text text-anchor=\"middle\" x=\"441.29\" y=\"-802.31\" font-family=\"Times New Roman,serif\" font-size=\"14.00\">False</text>\n",
       "</g>\n",
       "<!-- 2 -->\n",
       "<g id=\"node3\" class=\"node\">\n",
       "<title>2</title>\n",
       "<polygon fill=\"#e78c49\" stroke=\"black\" points=\"247.5,-677 116.5,-677 116.5,-609 247.5,-609 247.5,-677\"/>\n",
       "<text text-anchor=\"middle\" x=\"182\" y=\"-661.8\" font-family=\"Times New Roman,serif\" font-size=\"14.00\">petal_length &lt;= 4.45</text>\n",
       "<text text-anchor=\"middle\" x=\"182\" y=\"-646.8\" font-family=\"Times New Roman,serif\" font-size=\"14.00\">samples = 13</text>\n",
       "<text text-anchor=\"middle\" x=\"182\" y=\"-631.8\" font-family=\"Times New Roman,serif\" font-size=\"14.00\">value = [12, 1]</text>\n",
       "<text text-anchor=\"middle\" x=\"182\" y=\"-616.8\" font-family=\"Times New Roman,serif\" font-size=\"14.00\">class = setosa</text>\n",
       "</g>\n",
       "<!-- 1&#45;&gt;2 -->\n",
       "<g id=\"edge2\" class=\"edge\">\n",
       "<title>1&#45;&gt;2</title>\n",
       "<path fill=\"none\" stroke=\"black\" d=\"M270.47,-712.88C258.46,-703.53 245.26,-693.26 232.82,-683.57\"/>\n",
       "<polygon fill=\"black\" stroke=\"black\" points=\"234.81,-680.68 224.77,-677.3 230.51,-686.2 234.81,-680.68\"/>\n",
       "</g>\n",
       "<!-- 7 -->\n",
       "<g id=\"node8\" class=\"node\">\n",
       "<title>7</title>\n",
       "<polygon fill=\"#e58139\" stroke=\"black\" points=\"364,-669.5 266,-669.5 266,-616.5 364,-616.5 364,-669.5\"/>\n",
       "<text text-anchor=\"middle\" x=\"315\" y=\"-654.3\" font-family=\"Times New Roman,serif\" font-size=\"14.00\">samples = 32</text>\n",
       "<text text-anchor=\"middle\" x=\"315\" y=\"-639.3\" font-family=\"Times New Roman,serif\" font-size=\"14.00\">value = [32, 0]</text>\n",
       "<text text-anchor=\"middle\" x=\"315\" y=\"-624.3\" font-family=\"Times New Roman,serif\" font-size=\"14.00\">class = setosa</text>\n",
       "</g>\n",
       "<!-- 1&#45;&gt;7 -->\n",
       "<g id=\"edge7\" class=\"edge\">\n",
       "<title>1&#45;&gt;7</title>\n",
       "<path fill=\"none\" stroke=\"black\" d=\"M313.65,-712.88C313.86,-702.22 314.09,-690.35 314.3,-679.52\"/>\n",
       "<polygon fill=\"black\" stroke=\"black\" points=\"317.8,-679.59 314.5,-669.52 310.8,-679.45 317.8,-679.59\"/>\n",
       "</g>\n",
       "<!-- 3 -->\n",
       "<g id=\"node4\" class=\"node\">\n",
       "<title>3</title>\n",
       "<polygon fill=\"#e58139\" stroke=\"black\" points=\"98,-565.5 0,-565.5 0,-512.5 98,-512.5 98,-565.5\"/>\n",
       "<text text-anchor=\"middle\" x=\"49\" y=\"-550.3\" font-family=\"Times New Roman,serif\" font-size=\"14.00\">samples = 11</text>\n",
       "<text text-anchor=\"middle\" x=\"49\" y=\"-535.3\" font-family=\"Times New Roman,serif\" font-size=\"14.00\">value = [11, 0]</text>\n",
       "<text text-anchor=\"middle\" x=\"49\" y=\"-520.3\" font-family=\"Times New Roman,serif\" font-size=\"14.00\">class = setosa</text>\n",
       "</g>\n",
       "<!-- 2&#45;&gt;3 -->\n",
       "<g id=\"edge3\" class=\"edge\">\n",
       "<title>2&#45;&gt;3</title>\n",
       "<path fill=\"none\" stroke=\"black\" d=\"M138.82,-608.88C123.33,-597.01 105.91,-583.65 90.56,-571.88\"/>\n",
       "<polygon fill=\"black\" stroke=\"black\" points=\"92.34,-568.83 82.28,-565.52 88.08,-574.38 92.34,-568.83\"/>\n",
       "</g>\n",
       "<!-- 4 -->\n",
       "<g id=\"node5\" class=\"node\">\n",
       "<title>4</title>\n",
       "<polygon fill=\"#ffffff\" stroke=\"black\" points=\"247.5,-573 116.5,-573 116.5,-505 247.5,-505 247.5,-573\"/>\n",
       "<text text-anchor=\"middle\" x=\"182\" y=\"-557.8\" font-family=\"Times New Roman,serif\" font-size=\"14.00\">sepal_width &lt;= 2.35</text>\n",
       "<text text-anchor=\"middle\" x=\"182\" y=\"-542.8\" font-family=\"Times New Roman,serif\" font-size=\"14.00\">samples = 2</text>\n",
       "<text text-anchor=\"middle\" x=\"182\" y=\"-527.8\" font-family=\"Times New Roman,serif\" font-size=\"14.00\">value = [1, 1]</text>\n",
       "<text text-anchor=\"middle\" x=\"182\" y=\"-512.8\" font-family=\"Times New Roman,serif\" font-size=\"14.00\">class = setosa</text>\n",
       "</g>\n",
       "<!-- 2&#45;&gt;4 -->\n",
       "<g id=\"edge4\" class=\"edge\">\n",
       "<title>2&#45;&gt;4</title>\n",
       "<path fill=\"none\" stroke=\"black\" d=\"M182,-608.88C182,-600.78 182,-591.98 182,-583.47\"/>\n",
       "<polygon fill=\"black\" stroke=\"black\" points=\"185.5,-583.3 182,-573.3 178.5,-583.3 185.5,-583.3\"/>\n",
       "</g>\n",
       "<!-- 5 -->\n",
       "<g id=\"node6\" class=\"node\">\n",
       "<title>5</title>\n",
       "<polygon fill=\"#e58139\" stroke=\"black\" points=\"106.5,-461.5 11.5,-461.5 11.5,-408.5 106.5,-408.5 106.5,-461.5\"/>\n",
       "<text text-anchor=\"middle\" x=\"59\" y=\"-446.3\" font-family=\"Times New Roman,serif\" font-size=\"14.00\">samples = 1</text>\n",
       "<text text-anchor=\"middle\" x=\"59\" y=\"-431.3\" font-family=\"Times New Roman,serif\" font-size=\"14.00\">value = [1, 0]</text>\n",
       "<text text-anchor=\"middle\" x=\"59\" y=\"-416.3\" font-family=\"Times New Roman,serif\" font-size=\"14.00\">class = setosa</text>\n",
       "</g>\n",
       "<!-- 4&#45;&gt;5 -->\n",
       "<g id=\"edge5\" class=\"edge\">\n",
       "<title>4&#45;&gt;5</title>\n",
       "<path fill=\"none\" stroke=\"black\" d=\"M142.07,-504.88C127.87,-493.12 111.93,-479.89 97.83,-468.2\"/>\n",
       "<polygon fill=\"black\" stroke=\"black\" points=\"99.71,-465.21 89.77,-461.52 95.24,-470.6 99.71,-465.21\"/>\n",
       "</g>\n",
       "<!-- 6 -->\n",
       "<g id=\"node7\" class=\"node\">\n",
       "<title>6</title>\n",
       "<polygon fill=\"#399de5\" stroke=\"black\" points=\"241,-461.5 125,-461.5 125,-408.5 241,-408.5 241,-461.5\"/>\n",
       "<text text-anchor=\"middle\" x=\"183\" y=\"-446.3\" font-family=\"Times New Roman,serif\" font-size=\"14.00\">samples = 1</text>\n",
       "<text text-anchor=\"middle\" x=\"183\" y=\"-431.3\" font-family=\"Times New Roman,serif\" font-size=\"14.00\">value = [0, 1]</text>\n",
       "<text text-anchor=\"middle\" x=\"183\" y=\"-416.3\" font-family=\"Times New Roman,serif\" font-size=\"14.00\">class = versicolor</text>\n",
       "</g>\n",
       "<!-- 4&#45;&gt;6 -->\n",
       "<g id=\"edge6\" class=\"edge\">\n",
       "<title>4&#45;&gt;6</title>\n",
       "<path fill=\"none\" stroke=\"black\" d=\"M182.32,-504.88C182.43,-494.33 182.54,-482.6 182.65,-471.85\"/>\n",
       "<polygon fill=\"black\" stroke=\"black\" points=\"186.15,-471.55 182.75,-461.52 179.15,-471.49 186.15,-471.55\"/>\n",
       "</g>\n",
       "<!-- 9 -->\n",
       "<g id=\"node10\" class=\"node\">\n",
       "<title>9</title>\n",
       "<polygon fill=\"#b5daf5\" stroke=\"black\" points=\"526.5,-677 395.5,-677 395.5,-609 526.5,-609 526.5,-677\"/>\n",
       "<text text-anchor=\"middle\" x=\"461\" y=\"-661.8\" font-family=\"Times New Roman,serif\" font-size=\"14.00\">sepal_width &lt;= 3.05</text>\n",
       "<text text-anchor=\"middle\" x=\"461\" y=\"-646.8\" font-family=\"Times New Roman,serif\" font-size=\"14.00\">samples = 13</text>\n",
       "<text text-anchor=\"middle\" x=\"461\" y=\"-631.8\" font-family=\"Times New Roman,serif\" font-size=\"14.00\">value = [5, 8]</text>\n",
       "<text text-anchor=\"middle\" x=\"461\" y=\"-616.8\" font-family=\"Times New Roman,serif\" font-size=\"14.00\">class = versicolor</text>\n",
       "</g>\n",
       "<!-- 8&#45;&gt;9 -->\n",
       "<g id=\"edge9\" class=\"edge\">\n",
       "<title>8&#45;&gt;9</title>\n",
       "<path fill=\"none\" stroke=\"black\" d=\"M461.68,-712.88C461.6,-704.78 461.51,-695.98 461.43,-687.47\"/>\n",
       "<polygon fill=\"black\" stroke=\"black\" points=\"464.92,-687.26 461.33,-677.3 457.92,-687.33 464.92,-687.26\"/>\n",
       "</g>\n",
       "<!-- 26 -->\n",
       "<g id=\"node27\" class=\"node\">\n",
       "<title>26</title>\n",
       "<polygon fill=\"#3e9fe6\" stroke=\"black\" points=\"675.5,-677 544.5,-677 544.5,-609 675.5,-609 675.5,-677\"/>\n",
       "<text text-anchor=\"middle\" x=\"610\" y=\"-661.8\" font-family=\"Times New Roman,serif\" font-size=\"14.00\">sepal_width &lt;= 2.75</text>\n",
       "<text text-anchor=\"middle\" x=\"610\" y=\"-646.8\" font-family=\"Times New Roman,serif\" font-size=\"14.00\">samples = 42</text>\n",
       "<text text-anchor=\"middle\" x=\"610\" y=\"-631.8\" font-family=\"Times New Roman,serif\" font-size=\"14.00\">value = [1, 41]</text>\n",
       "<text text-anchor=\"middle\" x=\"610\" y=\"-616.8\" font-family=\"Times New Roman,serif\" font-size=\"14.00\">class = versicolor</text>\n",
       "</g>\n",
       "<!-- 8&#45;&gt;26 -->\n",
       "<g id=\"edge26\" class=\"edge\">\n",
       "<title>8&#45;&gt;26</title>\n",
       "<path fill=\"none\" stroke=\"black\" d=\"M510.05,-712.88C523.95,-703.3 539.25,-692.76 553.61,-682.86\"/>\n",
       "<polygon fill=\"black\" stroke=\"black\" points=\"555.69,-685.68 561.94,-677.12 551.72,-679.92 555.69,-685.68\"/>\n",
       "</g>\n",
       "<!-- 10 -->\n",
       "<g id=\"node11\" class=\"node\">\n",
       "<title>10</title>\n",
       "<polygon fill=\"#83c2ef\" stroke=\"black\" points=\"405.5,-573 274.5,-573 274.5,-505 405.5,-505 405.5,-573\"/>\n",
       "<text text-anchor=\"middle\" x=\"340\" y=\"-557.8\" font-family=\"Times New Roman,serif\" font-size=\"14.00\">sepal_width &lt;= 2.35</text>\n",
       "<text text-anchor=\"middle\" x=\"340\" y=\"-542.8\" font-family=\"Times New Roman,serif\" font-size=\"14.00\">samples = 11</text>\n",
       "<text text-anchor=\"middle\" x=\"340\" y=\"-527.8\" font-family=\"Times New Roman,serif\" font-size=\"14.00\">value = [3, 8]</text>\n",
       "<text text-anchor=\"middle\" x=\"340\" y=\"-512.8\" font-family=\"Times New Roman,serif\" font-size=\"14.00\">class = versicolor</text>\n",
       "</g>\n",
       "<!-- 9&#45;&gt;10 -->\n",
       "<g id=\"edge10\" class=\"edge\">\n",
       "<title>9&#45;&gt;10</title>\n",
       "<path fill=\"none\" stroke=\"black\" d=\"M421.71,-608.88C410.73,-599.62 398.67,-589.45 387.27,-579.85\"/>\n",
       "<polygon fill=\"black\" stroke=\"black\" points=\"389.4,-577.07 379.5,-573.3 384.89,-582.42 389.4,-577.07\"/>\n",
       "</g>\n",
       "<!-- 25 -->\n",
       "<g id=\"node26\" class=\"node\">\n",
       "<title>25</title>\n",
       "<polygon fill=\"#e58139\" stroke=\"black\" points=\"518.5,-565.5 423.5,-565.5 423.5,-512.5 518.5,-512.5 518.5,-565.5\"/>\n",
       "<text text-anchor=\"middle\" x=\"471\" y=\"-550.3\" font-family=\"Times New Roman,serif\" font-size=\"14.00\">samples = 2</text>\n",
       "<text text-anchor=\"middle\" x=\"471\" y=\"-535.3\" font-family=\"Times New Roman,serif\" font-size=\"14.00\">value = [2, 0]</text>\n",
       "<text text-anchor=\"middle\" x=\"471\" y=\"-520.3\" font-family=\"Times New Roman,serif\" font-size=\"14.00\">class = setosa</text>\n",
       "</g>\n",
       "<!-- 9&#45;&gt;25 -->\n",
       "<g id=\"edge25\" class=\"edge\">\n",
       "<title>9&#45;&gt;25</title>\n",
       "<path fill=\"none\" stroke=\"black\" d=\"M464.25,-608.88C465.29,-598.22 466.46,-586.35 467.52,-575.52\"/>\n",
       "<polygon fill=\"black\" stroke=\"black\" points=\"471.01,-575.81 468.5,-565.52 464.04,-575.13 471.01,-575.81\"/>\n",
       "</g>\n",
       "<!-- 11 -->\n",
       "<g id=\"node12\" class=\"node\">\n",
       "<title>11</title>\n",
       "<polygon fill=\"#399de5\" stroke=\"black\" points=\"381,-461.5 265,-461.5 265,-408.5 381,-408.5 381,-461.5\"/>\n",
       "<text text-anchor=\"middle\" x=\"323\" y=\"-446.3\" font-family=\"Times New Roman,serif\" font-size=\"14.00\">samples = 1</text>\n",
       "<text text-anchor=\"middle\" x=\"323\" y=\"-431.3\" font-family=\"Times New Roman,serif\" font-size=\"14.00\">value = [0, 1]</text>\n",
       "<text text-anchor=\"middle\" x=\"323\" y=\"-416.3\" font-family=\"Times New Roman,serif\" font-size=\"14.00\">class = versicolor</text>\n",
       "</g>\n",
       "<!-- 10&#45;&gt;11 -->\n",
       "<g id=\"edge11\" class=\"edge\">\n",
       "<title>10&#45;&gt;11</title>\n",
       "<path fill=\"none\" stroke=\"black\" d=\"M334.48,-504.88C332.7,-494.22 330.73,-482.35 328.92,-471.52\"/>\n",
       "<polygon fill=\"black\" stroke=\"black\" points=\"332.35,-470.81 327.25,-461.52 325.45,-471.96 332.35,-470.81\"/>\n",
       "</g>\n",
       "<!-- 12 -->\n",
       "<g id=\"node13\" class=\"node\">\n",
       "<title>12</title>\n",
       "<polygon fill=\"#8ec7f0\" stroke=\"black\" points=\"530.5,-469 399.5,-469 399.5,-401 530.5,-401 530.5,-469\"/>\n",
       "<text text-anchor=\"middle\" x=\"465\" y=\"-453.8\" font-family=\"Times New Roman,serif\" font-size=\"14.00\">sepal_width &lt;= 2.75</text>\n",
       "<text text-anchor=\"middle\" x=\"465\" y=\"-438.8\" font-family=\"Times New Roman,serif\" font-size=\"14.00\">samples = 10</text>\n",
       "<text text-anchor=\"middle\" x=\"465\" y=\"-423.8\" font-family=\"Times New Roman,serif\" font-size=\"14.00\">value = [3, 7]</text>\n",
       "<text text-anchor=\"middle\" x=\"465\" y=\"-408.8\" font-family=\"Times New Roman,serif\" font-size=\"14.00\">class = versicolor</text>\n",
       "</g>\n",
       "<!-- 10&#45;&gt;12 -->\n",
       "<g id=\"edge12\" class=\"edge\">\n",
       "<title>10&#45;&gt;12</title>\n",
       "<path fill=\"none\" stroke=\"black\" d=\"M380.58,-504.88C391.94,-495.62 404.39,-485.45 416.17,-475.85\"/>\n",
       "<polygon fill=\"black\" stroke=\"black\" points=\"418.66,-478.33 424.19,-469.3 414.23,-472.91 418.66,-478.33\"/>\n",
       "</g>\n",
       "<!-- 13 -->\n",
       "<g id=\"node14\" class=\"node\">\n",
       "<title>13</title>\n",
       "<polygon fill=\"#7bbeee\" stroke=\"black\" points=\"455.5,-365 324.5,-365 324.5,-297 455.5,-297 455.5,-365\"/>\n",
       "<text text-anchor=\"middle\" x=\"390\" y=\"-349.8\" font-family=\"Times New Roman,serif\" font-size=\"14.00\">petal_length &lt;= 4.95</text>\n",
       "<text text-anchor=\"middle\" x=\"390\" y=\"-334.8\" font-family=\"Times New Roman,serif\" font-size=\"14.00\">samples = 4</text>\n",
       "<text text-anchor=\"middle\" x=\"390\" y=\"-319.8\" font-family=\"Times New Roman,serif\" font-size=\"14.00\">value = [1, 3]</text>\n",
       "<text text-anchor=\"middle\" x=\"390\" y=\"-304.8\" font-family=\"Times New Roman,serif\" font-size=\"14.00\">class = versicolor</text>\n",
       "</g>\n",
       "<!-- 12&#45;&gt;13 -->\n",
       "<g id=\"edge13\" class=\"edge\">\n",
       "<title>12&#45;&gt;13</title>\n",
       "<path fill=\"none\" stroke=\"black\" d=\"M440.65,-400.88C434.23,-392.15 427.22,-382.62 420.52,-373.51\"/>\n",
       "<polygon fill=\"black\" stroke=\"black\" points=\"423.23,-371.28 414.48,-365.3 417.59,-375.43 423.23,-371.28\"/>\n",
       "</g>\n",
       "<!-- 18 -->\n",
       "<g id=\"node19\" class=\"node\">\n",
       "<title>18</title>\n",
       "<polygon fill=\"#9ccef2\" stroke=\"black\" points=\"604.5,-365 473.5,-365 473.5,-297 604.5,-297 604.5,-365\"/>\n",
       "<text text-anchor=\"middle\" x=\"539\" y=\"-349.8\" font-family=\"Times New Roman,serif\" font-size=\"14.00\">petal_length &lt;= 4.95</text>\n",
       "<text text-anchor=\"middle\" x=\"539\" y=\"-334.8\" font-family=\"Times New Roman,serif\" font-size=\"14.00\">samples = 6</text>\n",
       "<text text-anchor=\"middle\" x=\"539\" y=\"-319.8\" font-family=\"Times New Roman,serif\" font-size=\"14.00\">value = [2, 4]</text>\n",
       "<text text-anchor=\"middle\" x=\"539\" y=\"-304.8\" font-family=\"Times New Roman,serif\" font-size=\"14.00\">class = versicolor</text>\n",
       "</g>\n",
       "<!-- 12&#45;&gt;18 -->\n",
       "<g id=\"edge18\" class=\"edge\">\n",
       "<title>12&#45;&gt;18</title>\n",
       "<path fill=\"none\" stroke=\"black\" d=\"M489.03,-400.88C495.36,-392.15 502.27,-382.62 508.88,-373.51\"/>\n",
       "<polygon fill=\"black\" stroke=\"black\" points=\"511.8,-375.45 514.84,-365.3 506.14,-371.34 511.8,-375.45\"/>\n",
       "</g>\n",
       "<!-- 14 -->\n",
       "<g id=\"node15\" class=\"node\">\n",
       "<title>14</title>\n",
       "<polygon fill=\"#ffffff\" stroke=\"black\" points=\"316.5,-261 191.5,-261 191.5,-193 316.5,-193 316.5,-261\"/>\n",
       "<text text-anchor=\"middle\" x=\"254\" y=\"-245.8\" font-family=\"Times New Roman,serif\" font-size=\"14.00\">sepal_width &lt;= 2.6</text>\n",
       "<text text-anchor=\"middle\" x=\"254\" y=\"-230.8\" font-family=\"Times New Roman,serif\" font-size=\"14.00\">samples = 2</text>\n",
       "<text text-anchor=\"middle\" x=\"254\" y=\"-215.8\" font-family=\"Times New Roman,serif\" font-size=\"14.00\">value = [1, 1]</text>\n",
       "<text text-anchor=\"middle\" x=\"254\" y=\"-200.8\" font-family=\"Times New Roman,serif\" font-size=\"14.00\">class = setosa</text>\n",
       "</g>\n",
       "<!-- 13&#45;&gt;14 -->\n",
       "<g id=\"edge14\" class=\"edge\">\n",
       "<title>13&#45;&gt;14</title>\n",
       "<path fill=\"none\" stroke=\"black\" d=\"M345.84,-296.88C333.37,-287.53 319.68,-277.26 306.76,-267.57\"/>\n",
       "<polygon fill=\"black\" stroke=\"black\" points=\"308.5,-264.5 298.4,-261.3 304.3,-270.1 308.5,-264.5\"/>\n",
       "</g>\n",
       "<!-- 17 -->\n",
       "<g id=\"node18\" class=\"node\">\n",
       "<title>17</title>\n",
       "<polygon fill=\"#399de5\" stroke=\"black\" points=\"451,-253.5 335,-253.5 335,-200.5 451,-200.5 451,-253.5\"/>\n",
       "<text text-anchor=\"middle\" x=\"393\" y=\"-238.3\" font-family=\"Times New Roman,serif\" font-size=\"14.00\">samples = 2</text>\n",
       "<text text-anchor=\"middle\" x=\"393\" y=\"-223.3\" font-family=\"Times New Roman,serif\" font-size=\"14.00\">value = [0, 2]</text>\n",
       "<text text-anchor=\"middle\" x=\"393\" y=\"-208.3\" font-family=\"Times New Roman,serif\" font-size=\"14.00\">class = versicolor</text>\n",
       "</g>\n",
       "<!-- 13&#45;&gt;17 -->\n",
       "<g id=\"edge17\" class=\"edge\">\n",
       "<title>13&#45;&gt;17</title>\n",
       "<path fill=\"none\" stroke=\"black\" d=\"M390.97,-296.88C391.29,-286.22 391.64,-274.35 391.96,-263.52\"/>\n",
       "<polygon fill=\"black\" stroke=\"black\" points=\"395.45,-263.62 392.25,-253.52 388.46,-263.41 395.45,-263.62\"/>\n",
       "</g>\n",
       "<!-- 15 -->\n",
       "<g id=\"node16\" class=\"node\">\n",
       "<title>15</title>\n",
       "<polygon fill=\"#e58139\" stroke=\"black\" points=\"239.5,-149.5 144.5,-149.5 144.5,-96.5 239.5,-96.5 239.5,-149.5\"/>\n",
       "<text text-anchor=\"middle\" x=\"192\" y=\"-134.3\" font-family=\"Times New Roman,serif\" font-size=\"14.00\">samples = 1</text>\n",
       "<text text-anchor=\"middle\" x=\"192\" y=\"-119.3\" font-family=\"Times New Roman,serif\" font-size=\"14.00\">value = [1, 0]</text>\n",
       "<text text-anchor=\"middle\" x=\"192\" y=\"-104.3\" font-family=\"Times New Roman,serif\" font-size=\"14.00\">class = setosa</text>\n",
       "</g>\n",
       "<!-- 14&#45;&gt;15 -->\n",
       "<g id=\"edge15\" class=\"edge\">\n",
       "<title>14&#45;&gt;15</title>\n",
       "<path fill=\"none\" stroke=\"black\" d=\"M233.87,-192.88C227.12,-181.78 219.58,-169.37 212.78,-158.18\"/>\n",
       "<polygon fill=\"black\" stroke=\"black\" points=\"215.7,-156.25 207.51,-149.52 209.72,-159.88 215.7,-156.25\"/>\n",
       "</g>\n",
       "<!-- 16 -->\n",
       "<g id=\"node17\" class=\"node\">\n",
       "<title>16</title>\n",
       "<polygon fill=\"#399de5\" stroke=\"black\" points=\"374,-149.5 258,-149.5 258,-96.5 374,-96.5 374,-149.5\"/>\n",
       "<text text-anchor=\"middle\" x=\"316\" y=\"-134.3\" font-family=\"Times New Roman,serif\" font-size=\"14.00\">samples = 1</text>\n",
       "<text text-anchor=\"middle\" x=\"316\" y=\"-119.3\" font-family=\"Times New Roman,serif\" font-size=\"14.00\">value = [0, 1]</text>\n",
       "<text text-anchor=\"middle\" x=\"316\" y=\"-104.3\" font-family=\"Times New Roman,serif\" font-size=\"14.00\">class = versicolor</text>\n",
       "</g>\n",
       "<!-- 14&#45;&gt;16 -->\n",
       "<g id=\"edge16\" class=\"edge\">\n",
       "<title>14&#45;&gt;16</title>\n",
       "<path fill=\"none\" stroke=\"black\" d=\"M274.13,-192.88C280.88,-181.78 288.42,-169.37 295.22,-158.18\"/>\n",
       "<polygon fill=\"black\" stroke=\"black\" points=\"298.28,-159.88 300.49,-149.52 292.3,-156.25 298.28,-159.88\"/>\n",
       "</g>\n",
       "<!-- 19 -->\n",
       "<g id=\"node20\" class=\"node\">\n",
       "<title>19</title>\n",
       "<polygon fill=\"#6ab6ec\" stroke=\"black\" points=\"599.5,-261 474.5,-261 474.5,-193 599.5,-193 599.5,-261\"/>\n",
       "<text text-anchor=\"middle\" x=\"537\" y=\"-245.8\" font-family=\"Times New Roman,serif\" font-size=\"14.00\">sepal_width &lt;= 2.9</text>\n",
       "<text text-anchor=\"middle\" x=\"537\" y=\"-230.8\" font-family=\"Times New Roman,serif\" font-size=\"14.00\">samples = 5</text>\n",
       "<text text-anchor=\"middle\" x=\"537\" y=\"-215.8\" font-family=\"Times New Roman,serif\" font-size=\"14.00\">value = [1, 4]</text>\n",
       "<text text-anchor=\"middle\" x=\"537\" y=\"-200.8\" font-family=\"Times New Roman,serif\" font-size=\"14.00\">class = versicolor</text>\n",
       "</g>\n",
       "<!-- 18&#45;&gt;19 -->\n",
       "<g id=\"edge19\" class=\"edge\">\n",
       "<title>18&#45;&gt;19</title>\n",
       "<path fill=\"none\" stroke=\"black\" d=\"M538.35,-296.88C538.19,-288.78 538.02,-279.98 537.85,-271.47\"/>\n",
       "<polygon fill=\"black\" stroke=\"black\" points=\"541.35,-271.23 537.65,-261.3 534.35,-271.37 541.35,-271.23\"/>\n",
       "</g>\n",
       "<!-- 24 -->\n",
       "<g id=\"node25\" class=\"node\">\n",
       "<title>24</title>\n",
       "<polygon fill=\"#e58139\" stroke=\"black\" points=\"712.5,-253.5 617.5,-253.5 617.5,-200.5 712.5,-200.5 712.5,-253.5\"/>\n",
       "<text text-anchor=\"middle\" x=\"665\" y=\"-238.3\" font-family=\"Times New Roman,serif\" font-size=\"14.00\">samples = 1</text>\n",
       "<text text-anchor=\"middle\" x=\"665\" y=\"-223.3\" font-family=\"Times New Roman,serif\" font-size=\"14.00\">value = [1, 0]</text>\n",
       "<text text-anchor=\"middle\" x=\"665\" y=\"-208.3\" font-family=\"Times New Roman,serif\" font-size=\"14.00\">class = setosa</text>\n",
       "</g>\n",
       "<!-- 18&#45;&gt;24 -->\n",
       "<g id=\"edge24\" class=\"edge\">\n",
       "<title>18&#45;&gt;24</title>\n",
       "<path fill=\"none\" stroke=\"black\" d=\"M579.91,-296.88C594.58,-285.01 611.08,-271.65 625.62,-259.88\"/>\n",
       "<polygon fill=\"black\" stroke=\"black\" points=\"627.91,-262.53 633.48,-253.52 623.5,-257.09 627.91,-262.53\"/>\n",
       "</g>\n",
       "<!-- 20 -->\n",
       "<g id=\"node21\" class=\"node\">\n",
       "<title>20</title>\n",
       "<polygon fill=\"#9ccef2\" stroke=\"black\" points=\"560.5,-157 429.5,-157 429.5,-89 560.5,-89 560.5,-157\"/>\n",
       "<text text-anchor=\"middle\" x=\"495\" y=\"-141.8\" font-family=\"Times New Roman,serif\" font-size=\"14.00\">petal_length &lt;= 4.85</text>\n",
       "<text text-anchor=\"middle\" x=\"495\" y=\"-126.8\" font-family=\"Times New Roman,serif\" font-size=\"14.00\">samples = 3</text>\n",
       "<text text-anchor=\"middle\" x=\"495\" y=\"-111.8\" font-family=\"Times New Roman,serif\" font-size=\"14.00\">value = [1, 2]</text>\n",
       "<text text-anchor=\"middle\" x=\"495\" y=\"-96.8\" font-family=\"Times New Roman,serif\" font-size=\"14.00\">class = versicolor</text>\n",
       "</g>\n",
       "<!-- 19&#45;&gt;20 -->\n",
       "<g id=\"edge20\" class=\"edge\">\n",
       "<title>19&#45;&gt;20</title>\n",
       "<path fill=\"none\" stroke=\"black\" d=\"M523.36,-192.88C519.92,-184.51 516.17,-175.4 512.55,-166.63\"/>\n",
       "<polygon fill=\"black\" stroke=\"black\" points=\"515.76,-165.21 508.71,-157.3 509.28,-167.88 515.76,-165.21\"/>\n",
       "</g>\n",
       "<!-- 23 -->\n",
       "<g id=\"node24\" class=\"node\">\n",
       "<title>23</title>\n",
       "<polygon fill=\"#399de5\" stroke=\"black\" points=\"695,-149.5 579,-149.5 579,-96.5 695,-96.5 695,-149.5\"/>\n",
       "<text text-anchor=\"middle\" x=\"637\" y=\"-134.3\" font-family=\"Times New Roman,serif\" font-size=\"14.00\">samples = 2</text>\n",
       "<text text-anchor=\"middle\" x=\"637\" y=\"-119.3\" font-family=\"Times New Roman,serif\" font-size=\"14.00\">value = [0, 2]</text>\n",
       "<text text-anchor=\"middle\" x=\"637\" y=\"-104.3\" font-family=\"Times New Roman,serif\" font-size=\"14.00\">class = versicolor</text>\n",
       "</g>\n",
       "<!-- 19&#45;&gt;23 -->\n",
       "<g id=\"edge23\" class=\"edge\">\n",
       "<title>19&#45;&gt;23</title>\n",
       "<path fill=\"none\" stroke=\"black\" d=\"M569.47,-192.88C580.79,-181.34 593.48,-168.39 604.78,-156.86\"/>\n",
       "<polygon fill=\"black\" stroke=\"black\" points=\"607.48,-159.11 611.98,-149.52 602.48,-154.21 607.48,-159.11\"/>\n",
       "</g>\n",
       "<!-- 21 -->\n",
       "<g id=\"node22\" class=\"node\">\n",
       "<title>21</title>\n",
       "<polygon fill=\"#ffffff\" stroke=\"black\" points=\"480.5,-53 385.5,-53 385.5,0 480.5,0 480.5,-53\"/>\n",
       "<text text-anchor=\"middle\" x=\"433\" y=\"-37.8\" font-family=\"Times New Roman,serif\" font-size=\"14.00\">samples = 2</text>\n",
       "<text text-anchor=\"middle\" x=\"433\" y=\"-22.8\" font-family=\"Times New Roman,serif\" font-size=\"14.00\">value = [1, 1]</text>\n",
       "<text text-anchor=\"middle\" x=\"433\" y=\"-7.8\" font-family=\"Times New Roman,serif\" font-size=\"14.00\">class = setosa</text>\n",
       "</g>\n",
       "<!-- 20&#45;&gt;21 -->\n",
       "<g id=\"edge21\" class=\"edge\">\n",
       "<title>20&#45;&gt;21</title>\n",
       "<path fill=\"none\" stroke=\"black\" d=\"M473.32,-88.95C467.55,-80.17 461.32,-70.66 455.51,-61.82\"/>\n",
       "<polygon fill=\"black\" stroke=\"black\" points=\"458.3,-59.68 449.89,-53.24 452.44,-63.52 458.3,-59.68\"/>\n",
       "</g>\n",
       "<!-- 22 -->\n",
       "<g id=\"node23\" class=\"node\">\n",
       "<title>22</title>\n",
       "<polygon fill=\"#399de5\" stroke=\"black\" points=\"615,-53 499,-53 499,0 615,0 615,-53\"/>\n",
       "<text text-anchor=\"middle\" x=\"557\" y=\"-37.8\" font-family=\"Times New Roman,serif\" font-size=\"14.00\">samples = 1</text>\n",
       "<text text-anchor=\"middle\" x=\"557\" y=\"-22.8\" font-family=\"Times New Roman,serif\" font-size=\"14.00\">value = [0, 1]</text>\n",
       "<text text-anchor=\"middle\" x=\"557\" y=\"-7.8\" font-family=\"Times New Roman,serif\" font-size=\"14.00\">class = versicolor</text>\n",
       "</g>\n",
       "<!-- 20&#45;&gt;22 -->\n",
       "<g id=\"edge22\" class=\"edge\">\n",
       "<title>20&#45;&gt;22</title>\n",
       "<path fill=\"none\" stroke=\"black\" d=\"M516.68,-88.95C522.45,-80.17 528.68,-70.66 534.49,-61.82\"/>\n",
       "<polygon fill=\"black\" stroke=\"black\" points=\"537.56,-63.52 540.11,-53.24 531.7,-59.68 537.56,-63.52\"/>\n",
       "</g>\n",
       "<!-- 27 -->\n",
       "<g id=\"node28\" class=\"node\">\n",
       "<title>27</title>\n",
       "<polygon fill=\"#5aade9\" stroke=\"black\" points=\"672.5,-573 547.5,-573 547.5,-505 672.5,-505 672.5,-573\"/>\n",
       "<text text-anchor=\"middle\" x=\"610\" y=\"-557.8\" font-family=\"Times New Roman,serif\" font-size=\"14.00\">petal_length &lt;= 5.2</text>\n",
       "<text text-anchor=\"middle\" x=\"610\" y=\"-542.8\" font-family=\"Times New Roman,serif\" font-size=\"14.00\">samples = 7</text>\n",
       "<text text-anchor=\"middle\" x=\"610\" y=\"-527.8\" font-family=\"Times New Roman,serif\" font-size=\"14.00\">value = [1, 6]</text>\n",
       "<text text-anchor=\"middle\" x=\"610\" y=\"-512.8\" font-family=\"Times New Roman,serif\" font-size=\"14.00\">class = versicolor</text>\n",
       "</g>\n",
       "<!-- 26&#45;&gt;27 -->\n",
       "<g id=\"edge27\" class=\"edge\">\n",
       "<title>26&#45;&gt;27</title>\n",
       "<path fill=\"none\" stroke=\"black\" d=\"M610,-608.88C610,-600.78 610,-591.98 610,-583.47\"/>\n",
       "<polygon fill=\"black\" stroke=\"black\" points=\"613.5,-583.3 610,-573.3 606.5,-583.3 613.5,-583.3\"/>\n",
       "</g>\n",
       "<!-- 30 -->\n",
       "<g id=\"node31\" class=\"node\">\n",
       "<title>30</title>\n",
       "<polygon fill=\"#399de5\" stroke=\"black\" points=\"807,-565.5 691,-565.5 691,-512.5 807,-512.5 807,-565.5\"/>\n",
       "<text text-anchor=\"middle\" x=\"749\" y=\"-550.3\" font-family=\"Times New Roman,serif\" font-size=\"14.00\">samples = 35</text>\n",
       "<text text-anchor=\"middle\" x=\"749\" y=\"-535.3\" font-family=\"Times New Roman,serif\" font-size=\"14.00\">value = [0, 35]</text>\n",
       "<text text-anchor=\"middle\" x=\"749\" y=\"-520.3\" font-family=\"Times New Roman,serif\" font-size=\"14.00\">class = versicolor</text>\n",
       "</g>\n",
       "<!-- 26&#45;&gt;30 -->\n",
       "<g id=\"edge30\" class=\"edge\">\n",
       "<title>26&#45;&gt;30</title>\n",
       "<path fill=\"none\" stroke=\"black\" d=\"M655.13,-608.88C671.47,-596.9 689.86,-583.4 706.01,-571.55\"/>\n",
       "<polygon fill=\"black\" stroke=\"black\" points=\"708.23,-574.26 714.22,-565.52 704.09,-568.61 708.23,-574.26\"/>\n",
       "</g>\n",
       "<!-- 28 -->\n",
       "<g id=\"node29\" class=\"node\">\n",
       "<title>28</title>\n",
       "<polygon fill=\"#9ccef2\" stroke=\"black\" points=\"668,-461.5 552,-461.5 552,-408.5 668,-408.5 668,-461.5\"/>\n",
       "<text text-anchor=\"middle\" x=\"610\" y=\"-446.3\" font-family=\"Times New Roman,serif\" font-size=\"14.00\">samples = 3</text>\n",
       "<text text-anchor=\"middle\" x=\"610\" y=\"-431.3\" font-family=\"Times New Roman,serif\" font-size=\"14.00\">value = [1, 2]</text>\n",
       "<text text-anchor=\"middle\" x=\"610\" y=\"-416.3\" font-family=\"Times New Roman,serif\" font-size=\"14.00\">class = versicolor</text>\n",
       "</g>\n",
       "<!-- 27&#45;&gt;28 -->\n",
       "<g id=\"edge28\" class=\"edge\">\n",
       "<title>27&#45;&gt;28</title>\n",
       "<path fill=\"none\" stroke=\"black\" d=\"M610,-504.88C610,-494.33 610,-482.6 610,-471.85\"/>\n",
       "<polygon fill=\"black\" stroke=\"black\" points=\"613.5,-471.52 610,-461.52 606.5,-471.52 613.5,-471.52\"/>\n",
       "</g>\n",
       "<!-- 29 -->\n",
       "<g id=\"node30\" class=\"node\">\n",
       "<title>29</title>\n",
       "<polygon fill=\"#399de5\" stroke=\"black\" points=\"802,-461.5 686,-461.5 686,-408.5 802,-408.5 802,-461.5\"/>\n",
       "<text text-anchor=\"middle\" x=\"744\" y=\"-446.3\" font-family=\"Times New Roman,serif\" font-size=\"14.00\">samples = 4</text>\n",
       "<text text-anchor=\"middle\" x=\"744\" y=\"-431.3\" font-family=\"Times New Roman,serif\" font-size=\"14.00\">value = [0, 4]</text>\n",
       "<text text-anchor=\"middle\" x=\"744\" y=\"-416.3\" font-family=\"Times New Roman,serif\" font-size=\"14.00\">class = versicolor</text>\n",
       "</g>\n",
       "<!-- 27&#45;&gt;29 -->\n",
       "<g id=\"edge29\" class=\"edge\">\n",
       "<title>27&#45;&gt;29</title>\n",
       "<path fill=\"none\" stroke=\"black\" d=\"M653.51,-504.88C669.11,-493.01 686.66,-479.65 702.12,-467.88\"/>\n",
       "<polygon fill=\"black\" stroke=\"black\" points=\"704.64,-470.36 710.47,-461.52 700.4,-464.79 704.64,-470.36\"/>\n",
       "</g>\n",
       "</g>\n",
       "</svg>\n"
      ],
      "text/plain": [
       "<graphviz.sources.Source at 0x213f42cc670>"
      ]
     },
     "metadata": {},
     "output_type": "display_data"
    }
   ],
   "source": [
    "import graphviz\n",
    "\n",
    "with open('tree.dot') as f:\n",
    "    dot_graph=f.read()\n",
    "display(graphviz.Source(dot_graph))"
   ]
  },
  {
   "cell_type": "code",
   "execution_count": 35,
   "id": "f89a7d9f",
   "metadata": {},
   "outputs": [
    {
     "data": {
      "text/plain": [
       "'tree.png'"
      ]
     },
     "execution_count": 35,
     "metadata": {},
     "output_type": "execute_result"
    }
   ],
   "source": [
    "## 파일로 저장\n",
    "dot=graphviz.Source(dot_graph)\n",
    "dot.format='png'\n",
    "dot.render(filename='tree')"
   ]
  },
  {
   "cell_type": "markdown",
   "id": "9bc11e08",
   "metadata": {},
   "source": [
    "### max_depth 옵션\n",
    "- 나무의 크기를 제한한다"
   ]
  },
  {
   "cell_type": "code",
   "execution_count": 37,
   "id": "08d17156",
   "metadata": {},
   "outputs": [
    {
     "data": {
      "text/plain": [
       "0.93"
      ]
     },
     "execution_count": 37,
     "metadata": {},
     "output_type": "execute_result"
    }
   ],
   "source": [
    "model = DecisionTreeClassifier(max_depth=1)\n",
    "model.fit(X, y)\n",
    "model.score(X, y)"
   ]
  },
  {
   "cell_type": "code",
   "execution_count": 39,
   "id": "01b140cb",
   "metadata": {},
   "outputs": [
    {
     "data": {
      "text/plain": [
       "<matplotlib.legend.Legend at 0x213f465cdc0>"
      ]
     },
     "execution_count": 39,
     "metadata": {},
     "output_type": "execute_result"
    },
    {
     "data": {
      "image/png": "[encoded data removed]",
      "text/plain": [
       "<Figure size 432x288 with 1 Axes>"
      ]
     },
     "metadata": {},
     "output_type": "display_data"
    }
   ],
   "source": [
    "mglearn.plots.plot_2d_classification(model, X, alpha=0.5)\n",
    "mglearn.discrete_scatter(X[:,0], X[:,1], y)\n",
    "plt.xlabel('sepal width')\n",
    "plt.ylabel('petal length')\n",
    "plt.legend(['versicolor', 'virginica'], loc=4)"
   ]
  },
  {
   "cell_type": "code",
   "execution_count": 40,
   "id": "8124e20c",
   "metadata": {},
   "outputs": [
    {
     "data": {
      "image/svg+xml": [
       "<?xml version=\"1.0\" encoding=\"UTF-8\" standalone=\"no\"?>\n",
       "<!DOCTYPE svg PUBLIC \"-//W3C//DTD SVG 1.1//EN\"\n",
       " \"http://www.w3.org/Graphics/SVG/1.1/DTD/svg11.dtd\">\n",
       "<!-- Generated by graphviz version 3.0.0 (20220226.1711)\n",
       " -->\n",
       "<!-- Title: Tree Pages: 1 -->\n",
       "<svg width=\"240pt\" height=\"165pt\"\n",
       " viewBox=\"0.00 0.00 240.00 165.00\" xmlns=\"http://www.w3.org/2000/svg\" xmlns:xlink=\"http://www.w3.org/1999/xlink\">\n",
       "<g id=\"graph0\" class=\"graph\" transform=\"scale(1 1) rotate(0) translate(4 161)\">\n",
       "<title>Tree</title>\n",
       "<polygon fill=\"white\" stroke=\"transparent\" points=\"-4,4 -4,-161 236,-161 236,4 -4,4\"/>\n",
       "<!-- 0 -->\n",
       "<g id=\"node1\" class=\"node\">\n",
       "<title>0</title>\n",
       "<polygon fill=\"#ffffff\" stroke=\"black\" points=\"176.5,-157 45.5,-157 45.5,-89 176.5,-89 176.5,-157\"/>\n",
       "<text text-anchor=\"middle\" x=\"111\" y=\"-141.8\" font-family=\"Times New Roman,serif\" font-size=\"14.00\">petal_length &lt;= 4.75</text>\n",
       "<text text-anchor=\"middle\" x=\"111\" y=\"-126.8\" font-family=\"Times New Roman,serif\" font-size=\"14.00\">samples = 100</text>\n",
       "<text text-anchor=\"middle\" x=\"111\" y=\"-111.8\" font-family=\"Times New Roman,serif\" font-size=\"14.00\">value = [50, 50]</text>\n",
       "<text text-anchor=\"middle\" x=\"111\" y=\"-96.8\" font-family=\"Times New Roman,serif\" font-size=\"14.00\">class = setosa</text>\n",
       "</g>\n",
       "<!-- 1 -->\n",
       "<g id=\"node2\" class=\"node\">\n",
       "<title>1</title>\n",
       "<polygon fill=\"#e6843d\" stroke=\"black\" points=\"98,-53 0,-53 0,0 98,0 98,-53\"/>\n",
       "<text text-anchor=\"middle\" x=\"49\" y=\"-37.8\" font-family=\"Times New Roman,serif\" font-size=\"14.00\">samples = 45</text>\n",
       "<text text-anchor=\"middle\" x=\"49\" y=\"-22.8\" font-family=\"Times New Roman,serif\" font-size=\"14.00\">value = [44, 1]</text>\n",
       "<text text-anchor=\"middle\" x=\"49\" y=\"-7.8\" font-family=\"Times New Roman,serif\" font-size=\"14.00\">class = setosa</text>\n",
       "</g>\n",
       "<!-- 0&#45;&gt;1 -->\n",
       "<g id=\"edge1\" class=\"edge\">\n",
       "<title>0&#45;&gt;1</title>\n",
       "<path fill=\"none\" stroke=\"black\" d=\"M89.32,-88.95C83.55,-80.17 77.32,-70.66 71.51,-61.82\"/>\n",
       "<polygon fill=\"black\" stroke=\"black\" points=\"74.3,-59.68 65.89,-53.24 68.44,-63.52 74.3,-59.68\"/>\n",
       "<text text-anchor=\"middle\" x=\"60.8\" y=\"-74.01\" font-family=\"Times New Roman,serif\" font-size=\"14.00\">True</text>\n",
       "</g>\n",
       "<!-- 2 -->\n",
       "<g id=\"node3\" class=\"node\">\n",
       "<title>2</title>\n",
       "<polygon fill=\"#51a9e8\" stroke=\"black\" points=\"232,-53 116,-53 116,0 232,0 232,-53\"/>\n",
       "<text text-anchor=\"middle\" x=\"174\" y=\"-37.8\" font-family=\"Times New Roman,serif\" font-size=\"14.00\">samples = 55</text>\n",
       "<text text-anchor=\"middle\" x=\"174\" y=\"-22.8\" font-family=\"Times New Roman,serif\" font-size=\"14.00\">value = [6, 49]</text>\n",
       "<text text-anchor=\"middle\" x=\"174\" y=\"-7.8\" font-family=\"Times New Roman,serif\" font-size=\"14.00\">class = versicolor</text>\n",
       "</g>\n",
       "<!-- 0&#45;&gt;2 -->\n",
       "<g id=\"edge2\" class=\"edge\">\n",
       "<title>0&#45;&gt;2</title>\n",
       "<path fill=\"none\" stroke=\"black\" d=\"M133.03,-88.95C138.89,-80.17 145.22,-70.66 151.12,-61.82\"/>\n",
       "<polygon fill=\"black\" stroke=\"black\" points=\"154.21,-63.5 156.84,-53.24 148.38,-59.62 154.21,-63.5\"/>\n",
       "<text text-anchor=\"middle\" x=\"161.75\" y=\"-74.05\" font-family=\"Times New Roman,serif\" font-size=\"14.00\">False</text>\n",
       "</g>\n",
       "</g>\n",
       "</svg>\n"
      ],
      "text/plain": [
       "<graphviz.sources.Source at 0x213f3d9aa30>"
      ]
     },
     "metadata": {},
     "output_type": "display_data"
    }
   ],
   "source": [
    "export_graphviz(model, out_file='tree.dot', class_names=iris.target_names,\n",
    "                feature_names=['sepal_width','petal_length'], impurity=False, filled=True)\n",
    "\n",
    "with open('tree.dot') as f:\n",
    "    dot_graph=f.read()\n",
    "display(graphviz.Source(dot_graph))"
   ]
  },
  {
   "cell_type": "code",
   "execution_count": null,
   "id": "ac1ae105",
   "metadata": {},
   "outputs": [],
   "source": []
  },
  {
   "cell_type": "markdown",
   "id": "7164e054",
   "metadata": {},
   "source": [
    "- 깊이를 3으로 설정"
   ]
  },
  {
   "cell_type": "code",
   "execution_count": 47,
   "id": "bd42b475",
   "metadata": {},
   "outputs": [
    {
     "data": {
      "text/plain": [
       "0.95"
      ]
     },
     "execution_count": 47,
     "metadata": {},
     "output_type": "execute_result"
    }
   ],
   "source": [
    "model = DecisionTreeClassifier(max_depth=3)\n",
    "model.fit(X, y)\n",
    "model.score(X, y)"
   ]
  },
  {
   "cell_type": "code",
   "execution_count": 48,
   "id": "f1822023",
   "metadata": {},
   "outputs": [
    {
     "data": {
      "text/plain": [
       "<matplotlib.legend.Legend at 0x213f48d13a0>"
      ]
     },
     "execution_count": 48,
     "metadata": {},
     "output_type": "execute_result"
    },
    {
     "data": {
      "image/png": "[encoded data removed]",
      "text/plain": [
       "<Figure size 432x288 with 1 Axes>"
      ]
     },
     "metadata": {},
     "output_type": "display_data"
    }
   ],
   "source": [
    "mglearn.plots.plot_2d_classification(model, X, alpha=0.5)\n",
    "mglearn.discrete_scatter(X[:,0], X[:,1], y)\n",
    "plt.xlabel('sepal width')\n",
    "plt.ylabel('petal length')\n",
    "plt.legend(['versicolor', 'virginica'], loc=4)"
   ]
  },
  {
   "cell_type": "code",
   "execution_count": 49,
   "id": "24635058",
   "metadata": {},
   "outputs": [
    {
     "data": {
      "image/svg+xml": [
       "<?xml version=\"1.0\" encoding=\"UTF-8\" standalone=\"no\"?>\n",
       "<!DOCTYPE svg PUBLIC \"-//W3C//DTD SVG 1.1//EN\"\n",
       " \"http://www.w3.org/Graphics/SVG/1.1/DTD/svg11.dtd\">\n",
       "<!-- Generated by graphviz version 3.0.0 (20220226.1711)\n",
       " -->\n",
       "<!-- Title: Tree Pages: 1 -->\n",
       "<svg width=\"768pt\" height=\"373pt\"\n",
       " viewBox=\"0.00 0.00 768.00 373.00\" xmlns=\"http://www.w3.org/2000/svg\" xmlns:xlink=\"http://www.w3.org/1999/xlink\">\n",
       "<g id=\"graph0\" class=\"graph\" transform=\"scale(1 1) rotate(0) translate(4 369)\">\n",
       "<title>Tree</title>\n",
       "<polygon fill=\"white\" stroke=\"transparent\" points=\"-4,4 -4,-369 764,-369 764,4 -4,4\"/>\n",
       "<!-- 0 -->\n",
       "<g id=\"node1\" class=\"node\">\n",
       "<title>0</title>\n",
       "<polygon fill=\"#ffffff\" stroke=\"black\" points=\"420.5,-365 289.5,-365 289.5,-297 420.5,-297 420.5,-365\"/>\n",
       "<text text-anchor=\"middle\" x=\"355\" y=\"-349.8\" font-family=\"Times New Roman,serif\" font-size=\"14.00\">petal_length &lt;= 4.75</text>\n",
       "<text text-anchor=\"middle\" x=\"355\" y=\"-334.8\" font-family=\"Times New Roman,serif\" font-size=\"14.00\">samples = 100</text>\n",
       "<text text-anchor=\"middle\" x=\"355\" y=\"-319.8\" font-family=\"Times New Roman,serif\" font-size=\"14.00\">value = [50, 50]</text>\n",
       "<text text-anchor=\"middle\" x=\"355\" y=\"-304.8\" font-family=\"Times New Roman,serif\" font-size=\"14.00\">class = setosa</text>\n",
       "</g>\n",
       "<!-- 1 -->\n",
       "<g id=\"node2\" class=\"node\">\n",
       "<title>1</title>\n",
       "<polygon fill=\"#e6843d\" stroke=\"black\" points=\"346.5,-261 215.5,-261 215.5,-193 346.5,-193 346.5,-261\"/>\n",
       "<text text-anchor=\"middle\" x=\"281\" y=\"-245.8\" font-family=\"Times New Roman,serif\" font-size=\"14.00\">sepal_width &lt;= 2.55</text>\n",
       "<text text-anchor=\"middle\" x=\"281\" y=\"-230.8\" font-family=\"Times New Roman,serif\" font-size=\"14.00\">samples = 45</text>\n",
       "<text text-anchor=\"middle\" x=\"281\" y=\"-215.8\" font-family=\"Times New Roman,serif\" font-size=\"14.00\">value = [44, 1]</text>\n",
       "<text text-anchor=\"middle\" x=\"281\" y=\"-200.8\" font-family=\"Times New Roman,serif\" font-size=\"14.00\">class = setosa</text>\n",
       "</g>\n",
       "<!-- 0&#45;&gt;1 -->\n",
       "<g id=\"edge1\" class=\"edge\">\n",
       "<title>0&#45;&gt;1</title>\n",
       "<path fill=\"none\" stroke=\"black\" d=\"M330.97,-296.88C324.64,-288.15 317.73,-278.62 311.12,-269.51\"/>\n",
       "<polygon fill=\"black\" stroke=\"black\" points=\"313.86,-267.34 305.16,-261.3 308.2,-271.45 313.86,-267.34\"/>\n",
       "<text text-anchor=\"middle\" x=\"301.23\" y=\"-282.29\" font-family=\"Times New Roman,serif\" font-size=\"14.00\">True</text>\n",
       "</g>\n",
       "<!-- 6 -->\n",
       "<g id=\"node7\" class=\"node\">\n",
       "<title>6</title>\n",
       "<polygon fill=\"#51a9e8\" stroke=\"black\" points=\"495.5,-261 364.5,-261 364.5,-193 495.5,-193 495.5,-261\"/>\n",
       "<text text-anchor=\"middle\" x=\"430\" y=\"-245.8\" font-family=\"Times New Roman,serif\" font-size=\"14.00\">petal_length &lt;= 5.05</text>\n",
       "<text text-anchor=\"middle\" x=\"430\" y=\"-230.8\" font-family=\"Times New Roman,serif\" font-size=\"14.00\">samples = 55</text>\n",
       "<text text-anchor=\"middle\" x=\"430\" y=\"-215.8\" font-family=\"Times New Roman,serif\" font-size=\"14.00\">value = [6, 49]</text>\n",
       "<text text-anchor=\"middle\" x=\"430\" y=\"-200.8\" font-family=\"Times New Roman,serif\" font-size=\"14.00\">class = versicolor</text>\n",
       "</g>\n",
       "<!-- 0&#45;&gt;6 -->\n",
       "<g id=\"edge6\" class=\"edge\">\n",
       "<title>0&#45;&gt;6</title>\n",
       "<path fill=\"none\" stroke=\"black\" d=\"M379.35,-296.88C385.77,-288.15 392.78,-278.62 399.48,-269.51\"/>\n",
       "<polygon fill=\"black\" stroke=\"black\" points=\"402.41,-271.43 405.52,-261.3 396.77,-267.28 402.41,-271.43\"/>\n",
       "<text text-anchor=\"middle\" x=\"409.29\" y=\"-282.31\" font-family=\"Times New Roman,serif\" font-size=\"14.00\">False</text>\n",
       "</g>\n",
       "<!-- 2 -->\n",
       "<g id=\"node3\" class=\"node\">\n",
       "<title>2</title>\n",
       "<polygon fill=\"#e78c49\" stroke=\"black\" points=\"217.5,-157 86.5,-157 86.5,-89 217.5,-89 217.5,-157\"/>\n",
       "<text text-anchor=\"middle\" x=\"152\" y=\"-141.8\" font-family=\"Times New Roman,serif\" font-size=\"14.00\">petal_length &lt;= 4.45</text>\n",
       "<text text-anchor=\"middle\" x=\"152\" y=\"-126.8\" font-family=\"Times New Roman,serif\" font-size=\"14.00\">samples = 13</text>\n",
       "<text text-anchor=\"middle\" x=\"152\" y=\"-111.8\" font-family=\"Times New Roman,serif\" font-size=\"14.00\">value = [12, 1]</text>\n",
       "<text text-anchor=\"middle\" x=\"152\" y=\"-96.8\" font-family=\"Times New Roman,serif\" font-size=\"14.00\">class = setosa</text>\n",
       "</g>\n",
       "<!-- 1&#45;&gt;2 -->\n",
       "<g id=\"edge2\" class=\"edge\">\n",
       "<title>1&#45;&gt;2</title>\n",
       "<path fill=\"none\" stroke=\"black\" d=\"M239.12,-192.88C227.29,-183.53 214.3,-173.26 202.04,-163.57\"/>\n",
       "<polygon fill=\"black\" stroke=\"black\" points=\"204.13,-160.76 194.11,-157.3 199.79,-166.25 204.13,-160.76\"/>\n",
       "</g>\n",
       "<!-- 5 -->\n",
       "<g id=\"node6\" class=\"node\">\n",
       "<title>5</title>\n",
       "<polygon fill=\"#e58139\" stroke=\"black\" points=\"334,-149.5 236,-149.5 236,-96.5 334,-96.5 334,-149.5\"/>\n",
       "<text text-anchor=\"middle\" x=\"285\" y=\"-134.3\" font-family=\"Times New Roman,serif\" font-size=\"14.00\">samples = 32</text>\n",
       "<text text-anchor=\"middle\" x=\"285\" y=\"-119.3\" font-family=\"Times New Roman,serif\" font-size=\"14.00\">value = [32, 0]</text>\n",
       "<text text-anchor=\"middle\" x=\"285\" y=\"-104.3\" font-family=\"Times New Roman,serif\" font-size=\"14.00\">class = setosa</text>\n",
       "</g>\n",
       "<!-- 1&#45;&gt;5 -->\n",
       "<g id=\"edge5\" class=\"edge\">\n",
       "<title>1&#45;&gt;5</title>\n",
       "<path fill=\"none\" stroke=\"black\" d=\"M282.3,-192.88C282.72,-182.22 283.18,-170.35 283.61,-159.52\"/>\n",
       "<polygon fill=\"black\" stroke=\"black\" points=\"287.1,-159.65 284,-149.52 280.11,-159.38 287.1,-159.65\"/>\n",
       "</g>\n",
       "<!-- 3 -->\n",
       "<g id=\"node4\" class=\"node\">\n",
       "<title>3</title>\n",
       "<polygon fill=\"#e58139\" stroke=\"black\" points=\"98,-53 0,-53 0,0 98,0 98,-53\"/>\n",
       "<text text-anchor=\"middle\" x=\"49\" y=\"-37.8\" font-family=\"Times New Roman,serif\" font-size=\"14.00\">samples = 11</text>\n",
       "<text text-anchor=\"middle\" x=\"49\" y=\"-22.8\" font-family=\"Times New Roman,serif\" font-size=\"14.00\">value = [11, 0]</text>\n",
       "<text text-anchor=\"middle\" x=\"49\" y=\"-7.8\" font-family=\"Times New Roman,serif\" font-size=\"14.00\">class = setosa</text>\n",
       "</g>\n",
       "<!-- 2&#45;&gt;3 -->\n",
       "<g id=\"edge3\" class=\"edge\">\n",
       "<title>2&#45;&gt;3</title>\n",
       "<path fill=\"none\" stroke=\"black\" d=\"M115.98,-88.95C105.81,-79.62 94.75,-69.47 84.6,-60.16\"/>\n",
       "<polygon fill=\"black\" stroke=\"black\" points=\"86.79,-57.42 77.05,-53.24 82.05,-62.58 86.79,-57.42\"/>\n",
       "</g>\n",
       "<!-- 4 -->\n",
       "<g id=\"node5\" class=\"node\">\n",
       "<title>4</title>\n",
       "<polygon fill=\"#ffffff\" stroke=\"black\" points=\"211.5,-53 116.5,-53 116.5,0 211.5,0 211.5,-53\"/>\n",
       "<text text-anchor=\"middle\" x=\"164\" y=\"-37.8\" font-family=\"Times New Roman,serif\" font-size=\"14.00\">samples = 2</text>\n",
       "<text text-anchor=\"middle\" x=\"164\" y=\"-22.8\" font-family=\"Times New Roman,serif\" font-size=\"14.00\">value = [1, 1]</text>\n",
       "<text text-anchor=\"middle\" x=\"164\" y=\"-7.8\" font-family=\"Times New Roman,serif\" font-size=\"14.00\">class = setosa</text>\n",
       "</g>\n",
       "<!-- 2&#45;&gt;4 -->\n",
       "<g id=\"edge4\" class=\"edge\">\n",
       "<title>2&#45;&gt;4</title>\n",
       "<path fill=\"none\" stroke=\"black\" d=\"M156.2,-88.95C157.25,-80.62 158.39,-71.65 159.47,-63.2\"/>\n",
       "<polygon fill=\"black\" stroke=\"black\" points=\"162.94,-63.6 160.73,-53.24 156,-62.72 162.94,-63.6\"/>\n",
       "</g>\n",
       "<!-- 7 -->\n",
       "<g id=\"node8\" class=\"node\">\n",
       "<title>7</title>\n",
       "<polygon fill=\"#b5daf5\" stroke=\"black\" points=\"491.5,-157 360.5,-157 360.5,-89 491.5,-89 491.5,-157\"/>\n",
       "<text text-anchor=\"middle\" x=\"426\" y=\"-141.8\" font-family=\"Times New Roman,serif\" font-size=\"14.00\">sepal_width &lt;= 3.05</text>\n",
       "<text text-anchor=\"middle\" x=\"426\" y=\"-126.8\" font-family=\"Times New Roman,serif\" font-size=\"14.00\">samples = 13</text>\n",
       "<text text-anchor=\"middle\" x=\"426\" y=\"-111.8\" font-family=\"Times New Roman,serif\" font-size=\"14.00\">value = [5, 8]</text>\n",
       "<text text-anchor=\"middle\" x=\"426\" y=\"-96.8\" font-family=\"Times New Roman,serif\" font-size=\"14.00\">class = versicolor</text>\n",
       "</g>\n",
       "<!-- 6&#45;&gt;7 -->\n",
       "<g id=\"edge7\" class=\"edge\">\n",
       "<title>6&#45;&gt;7</title>\n",
       "<path fill=\"none\" stroke=\"black\" d=\"M428.7,-192.88C428.38,-184.78 428.04,-175.98 427.7,-167.47\"/>\n",
       "<polygon fill=\"black\" stroke=\"black\" points=\"431.2,-167.15 427.31,-157.3 424.2,-167.43 431.2,-167.15\"/>\n",
       "</g>\n",
       "<!-- 10 -->\n",
       "<g id=\"node11\" class=\"node\">\n",
       "<title>10</title>\n",
       "<polygon fill=\"#3e9fe6\" stroke=\"black\" points=\"640.5,-157 509.5,-157 509.5,-89 640.5,-89 640.5,-157\"/>\n",
       "<text text-anchor=\"middle\" x=\"575\" y=\"-141.8\" font-family=\"Times New Roman,serif\" font-size=\"14.00\">sepal_width &lt;= 2.75</text>\n",
       "<text text-anchor=\"middle\" x=\"575\" y=\"-126.8\" font-family=\"Times New Roman,serif\" font-size=\"14.00\">samples = 42</text>\n",
       "<text text-anchor=\"middle\" x=\"575\" y=\"-111.8\" font-family=\"Times New Roman,serif\" font-size=\"14.00\">value = [1, 41]</text>\n",
       "<text text-anchor=\"middle\" x=\"575\" y=\"-96.8\" font-family=\"Times New Roman,serif\" font-size=\"14.00\">class = versicolor</text>\n",
       "</g>\n",
       "<!-- 6&#45;&gt;10 -->\n",
       "<g id=\"edge10\" class=\"edge\">\n",
       "<title>6&#45;&gt;10</title>\n",
       "<path fill=\"none\" stroke=\"black\" d=\"M477.08,-192.88C490.5,-183.44 505.25,-173.06 519.14,-163.29\"/>\n",
       "<polygon fill=\"black\" stroke=\"black\" points=\"521.5,-165.92 527.66,-157.3 517.47,-160.19 521.5,-165.92\"/>\n",
       "</g>\n",
       "<!-- 8 -->\n",
       "<g id=\"node9\" class=\"node\">\n",
       "<title>8</title>\n",
       "<polygon fill=\"#83c2ef\" stroke=\"black\" points=\"367,-53 251,-53 251,0 367,0 367,-53\"/>\n",
       "<text text-anchor=\"middle\" x=\"309\" y=\"-37.8\" font-family=\"Times New Roman,serif\" font-size=\"14.00\">samples = 11</text>\n",
       "<text text-anchor=\"middle\" x=\"309\" y=\"-22.8\" font-family=\"Times New Roman,serif\" font-size=\"14.00\">value = [3, 8]</text>\n",
       "<text text-anchor=\"middle\" x=\"309\" y=\"-7.8\" font-family=\"Times New Roman,serif\" font-size=\"14.00\">class = versicolor</text>\n",
       "</g>\n",
       "<!-- 7&#45;&gt;8 -->\n",
       "<g id=\"edge8\" class=\"edge\">\n",
       "<title>7&#45;&gt;8</title>\n",
       "<path fill=\"none\" stroke=\"black\" d=\"M385.08,-88.95C373.3,-79.43 360.47,-69.07 348.76,-59.62\"/>\n",
       "<polygon fill=\"black\" stroke=\"black\" points=\"350.84,-56.8 340.86,-53.24 346.44,-62.24 350.84,-56.8\"/>\n",
       "</g>\n",
       "<!-- 9 -->\n",
       "<g id=\"node10\" class=\"node\">\n",
       "<title>9</title>\n",
       "<polygon fill=\"#e58139\" stroke=\"black\" points=\"480.5,-53 385.5,-53 385.5,0 480.5,0 480.5,-53\"/>\n",
       "<text text-anchor=\"middle\" x=\"433\" y=\"-37.8\" font-family=\"Times New Roman,serif\" font-size=\"14.00\">samples = 2</text>\n",
       "<text text-anchor=\"middle\" x=\"433\" y=\"-22.8\" font-family=\"Times New Roman,serif\" font-size=\"14.00\">value = [2, 0]</text>\n",
       "<text text-anchor=\"middle\" x=\"433\" y=\"-7.8\" font-family=\"Times New Roman,serif\" font-size=\"14.00\">class = setosa</text>\n",
       "</g>\n",
       "<!-- 7&#45;&gt;9 -->\n",
       "<g id=\"edge9\" class=\"edge\">\n",
       "<title>7&#45;&gt;9</title>\n",
       "<path fill=\"none\" stroke=\"black\" d=\"M428.45,-88.95C429.06,-80.72 429.71,-71.85 430.33,-63.48\"/>\n",
       "<polygon fill=\"black\" stroke=\"black\" points=\"433.85,-63.47 431.09,-53.24 426.86,-62.95 433.85,-63.47\"/>\n",
       "</g>\n",
       "<!-- 11 -->\n",
       "<g id=\"node12\" class=\"node\">\n",
       "<title>11</title>\n",
       "<polygon fill=\"#5aade9\" stroke=\"black\" points=\"626,-53 510,-53 510,0 626,0 626,-53\"/>\n",
       "<text text-anchor=\"middle\" x=\"568\" y=\"-37.8\" font-family=\"Times New Roman,serif\" font-size=\"14.00\">samples = 7</text>\n",
       "<text text-anchor=\"middle\" x=\"568\" y=\"-22.8\" font-family=\"Times New Roman,serif\" font-size=\"14.00\">value = [1, 6]</text>\n",
       "<text text-anchor=\"middle\" x=\"568\" y=\"-7.8\" font-family=\"Times New Roman,serif\" font-size=\"14.00\">class = versicolor</text>\n",
       "</g>\n",
       "<!-- 10&#45;&gt;11 -->\n",
       "<g id=\"edge11\" class=\"edge\">\n",
       "<title>10&#45;&gt;11</title>\n",
       "<path fill=\"none\" stroke=\"black\" d=\"M572.55,-88.95C571.94,-80.72 571.29,-71.85 570.67,-63.48\"/>\n",
       "<polygon fill=\"black\" stroke=\"black\" points=\"574.14,-62.95 569.91,-53.24 567.15,-63.47 574.14,-62.95\"/>\n",
       "</g>\n",
       "<!-- 12 -->\n",
       "<g id=\"node13\" class=\"node\">\n",
       "<title>12</title>\n",
       "<polygon fill=\"#399de5\" stroke=\"black\" points=\"760,-53 644,-53 644,0 760,0 760,-53\"/>\n",
       "<text text-anchor=\"middle\" x=\"702\" y=\"-37.8\" font-family=\"Times New Roman,serif\" font-size=\"14.00\">samples = 35</text>\n",
       "<text text-anchor=\"middle\" x=\"702\" y=\"-22.8\" font-family=\"Times New Roman,serif\" font-size=\"14.00\">value = [0, 35]</text>\n",
       "<text text-anchor=\"middle\" x=\"702\" y=\"-7.8\" font-family=\"Times New Roman,serif\" font-size=\"14.00\">class = versicolor</text>\n",
       "</g>\n",
       "<!-- 10&#45;&gt;12 -->\n",
       "<g id=\"edge12\" class=\"edge\">\n",
       "<title>10&#45;&gt;12</title>\n",
       "<path fill=\"none\" stroke=\"black\" d=\"M619.42,-88.95C632.33,-79.34 646.4,-68.87 659.2,-59.34\"/>\n",
       "<polygon fill=\"black\" stroke=\"black\" points=\"661.48,-62.01 667.41,-53.24 657.3,-56.4 661.48,-62.01\"/>\n",
       "</g>\n",
       "</g>\n",
       "</svg>\n"
      ],
      "text/plain": [
       "<graphviz.sources.Source at 0x213f16b1370>"
      ]
     },
     "metadata": {},
     "output_type": "display_data"
    }
   ],
   "source": [
    "export_graphviz(model, out_file='tree.dot', class_names=iris.target_names,\n",
    "                feature_names=['sepal_width','petal_length'], impurity=False, filled=True)\n",
    "\n",
    "with open('tree.dot') as f:\n",
    "    dot_graph=f.read()\n",
    "display(graphviz.Source(dot_graph))"
   ]
  },
  {
   "cell_type": "code",
   "execution_count": null,
   "id": "1cd8789e",
   "metadata": {},
   "outputs": [],
   "source": []
  },
  {
   "cell_type": "markdown",
   "id": "ffd1bcd1",
   "metadata": {},
   "source": [
    "### DecisionTreeClassifier 주요 옵션\n",
    "- max_depth\n",
    "- max_leaf_nodes : 총 잎노드의 갯수를 제한한다\n",
    "- min_samples_split : 만일 10이라면, 노드의 샘플 갯수가 10이상이 되어야 분기를 한다.\n",
    "- min_samples_leaf : 10이라면, 잎노드의 샘플 갯수는 10이상이 되도록 만든다.\n",
    "- max_features : 분기를 할 때 고려하는 속성의 갯수이다. 만일 2라면 판단할 속성을 고를때 랜덤하게 속성 2개만 뽑아 그 중에서 기준을 세운다."
   ]
  },
  {
   "cell_type": "code",
   "execution_count": 65,
   "id": "5f6647c5",
   "metadata": {},
   "outputs": [
    {
     "data": {
      "text/plain": [
       "0.96"
      ]
     },
     "execution_count": 65,
     "metadata": {},
     "output_type": "execute_result"
    }
   ],
   "source": [
    "model = DecisionTreeClassifier(max_leaf_nodes=10)\n",
    "model.fit(X, y)\n",
    "model.score(X, y)"
   ]
  },
  {
   "cell_type": "code",
   "execution_count": 66,
   "id": "a85a0999",
   "metadata": {},
   "outputs": [
    {
     "data": {
      "text/plain": [
       "<matplotlib.legend.Legend at 0x213f4aed280>"
      ]
     },
     "execution_count": 66,
     "metadata": {},
     "output_type": "execute_result"
    },
    {
     "data": {
      "image/png": "[encoded data removed]",
      "text/plain": [
       "<Figure size 432x288 with 1 Axes>"
      ]
     },
     "metadata": {},
     "output_type": "display_data"
    }
   ],
   "source": [
    "mglearn.plots.plot_2d_classification(model, X, alpha=0.5)\n",
    "mglearn.discrete_scatter(X[:,0], X[:,1], y)\n",
    "plt.xlabel('sepal width')\n",
    "plt.ylabel('petal length')\n",
    "plt.legend(['versicolor', 'virginica'], loc=4)"
   ]
  },
  {
   "cell_type": "code",
   "execution_count": 67,
   "id": "cf66e94c",
   "metadata": {},
   "outputs": [
    {
     "data": {
      "image/svg+xml": [
       "<?xml version=\"1.0\" encoding=\"UTF-8\" standalone=\"no\"?>\n",
       "<!DOCTYPE svg PUBLIC \"-//W3C//DTD SVG 1.1//EN\"\n",
       " \"http://www.w3.org/Graphics/SVG/1.1/DTD/svg11.dtd\">\n",
       "<!-- Generated by graphviz version 3.0.0 (20220226.1711)\n",
       " -->\n",
       "<!-- Title: Tree Pages: 1 -->\n",
       "<svg width=\"813pt\" height=\"477pt\"\n",
       " viewBox=\"0.00 0.00 813.00 477.00\" xmlns=\"http://www.w3.org/2000/svg\" xmlns:xlink=\"http://www.w3.org/1999/xlink\">\n",
       "<g id=\"graph0\" class=\"graph\" transform=\"scale(1 1) rotate(0) translate(4 473)\">\n",
       "<title>Tree</title>\n",
       "<polygon fill=\"white\" stroke=\"transparent\" points=\"-4,4 -4,-473 809,-473 809,4 -4,4\"/>\n",
       "<!-- 0 -->\n",
       "<g id=\"node1\" class=\"node\">\n",
       "<title>0</title>\n",
       "<polygon fill=\"#ffffff\" stroke=\"black\" points=\"450.5,-469 319.5,-469 319.5,-401 450.5,-401 450.5,-469\"/>\n",
       "<text text-anchor=\"middle\" x=\"385\" y=\"-453.8\" font-family=\"Times New Roman,serif\" font-size=\"14.00\">petal_length &lt;= 4.75</text>\n",
       "<text text-anchor=\"middle\" x=\"385\" y=\"-438.8\" font-family=\"Times New Roman,serif\" font-size=\"14.00\">samples = 100</text>\n",
       "<text text-anchor=\"middle\" x=\"385\" y=\"-423.8\" font-family=\"Times New Roman,serif\" font-size=\"14.00\">value = [50, 50]</text>\n",
       "<text text-anchor=\"middle\" x=\"385\" y=\"-408.8\" font-family=\"Times New Roman,serif\" font-size=\"14.00\">class = setosa</text>\n",
       "</g>\n",
       "<!-- 1 -->\n",
       "<g id=\"node2\" class=\"node\">\n",
       "<title>1</title>\n",
       "<polygon fill=\"#e6843d\" stroke=\"black\" points=\"376.5,-365 245.5,-365 245.5,-297 376.5,-297 376.5,-365\"/>\n",
       "<text text-anchor=\"middle\" x=\"311\" y=\"-349.8\" font-family=\"Times New Roman,serif\" font-size=\"14.00\">sepal_width &lt;= 2.55</text>\n",
       "<text text-anchor=\"middle\" x=\"311\" y=\"-334.8\" font-family=\"Times New Roman,serif\" font-size=\"14.00\">samples = 45</text>\n",
       "<text text-anchor=\"middle\" x=\"311\" y=\"-319.8\" font-family=\"Times New Roman,serif\" font-size=\"14.00\">value = [44, 1]</text>\n",
       "<text text-anchor=\"middle\" x=\"311\" y=\"-304.8\" font-family=\"Times New Roman,serif\" font-size=\"14.00\">class = setosa</text>\n",
       "</g>\n",
       "<!-- 0&#45;&gt;1 -->\n",
       "<g id=\"edge1\" class=\"edge\">\n",
       "<title>0&#45;&gt;1</title>\n",
       "<path fill=\"none\" stroke=\"black\" d=\"M360.97,-400.88C354.64,-392.15 347.73,-382.62 341.12,-373.51\"/>\n",
       "<polygon fill=\"black\" stroke=\"black\" points=\"343.86,-371.34 335.16,-365.3 338.2,-375.45 343.86,-371.34\"/>\n",
       "<text text-anchor=\"middle\" x=\"331.23\" y=\"-386.29\" font-family=\"Times New Roman,serif\" font-size=\"14.00\">True</text>\n",
       "</g>\n",
       "<!-- 2 -->\n",
       "<g id=\"node9\" class=\"node\">\n",
       "<title>2</title>\n",
       "<polygon fill=\"#51a9e8\" stroke=\"black\" points=\"525.5,-365 394.5,-365 394.5,-297 525.5,-297 525.5,-365\"/>\n",
       "<text text-anchor=\"middle\" x=\"460\" y=\"-349.8\" font-family=\"Times New Roman,serif\" font-size=\"14.00\">petal_length &lt;= 5.05</text>\n",
       "<text text-anchor=\"middle\" x=\"460\" y=\"-334.8\" font-family=\"Times New Roman,serif\" font-size=\"14.00\">samples = 55</text>\n",
       "<text text-anchor=\"middle\" x=\"460\" y=\"-319.8\" font-family=\"Times New Roman,serif\" font-size=\"14.00\">value = [6, 49]</text>\n",
       "<text text-anchor=\"middle\" x=\"460\" y=\"-304.8\" font-family=\"Times New Roman,serif\" font-size=\"14.00\">class = versicolor</text>\n",
       "</g>\n",
       "<!-- 0&#45;&gt;2 -->\n",
       "<g id=\"edge8\" class=\"edge\">\n",
       "<title>0&#45;&gt;2</title>\n",
       "<path fill=\"none\" stroke=\"black\" d=\"M409.35,-400.88C415.77,-392.15 422.78,-382.62 429.48,-373.51\"/>\n",
       "<polygon fill=\"black\" stroke=\"black\" points=\"432.41,-375.43 435.52,-365.3 426.77,-371.28 432.41,-375.43\"/>\n",
       "<text text-anchor=\"middle\" x=\"439.29\" y=\"-386.31\" font-family=\"Times New Roman,serif\" font-size=\"14.00\">False</text>\n",
       "</g>\n",
       "<!-- 13 -->\n",
       "<g id=\"node3\" class=\"node\">\n",
       "<title>13</title>\n",
       "<polygon fill=\"#e78c49\" stroke=\"black\" points=\"243.5,-261 112.5,-261 112.5,-193 243.5,-193 243.5,-261\"/>\n",
       "<text text-anchor=\"middle\" x=\"178\" y=\"-245.8\" font-family=\"Times New Roman,serif\" font-size=\"14.00\">petal_length &lt;= 4.45</text>\n",
       "<text text-anchor=\"middle\" x=\"178\" y=\"-230.8\" font-family=\"Times New Roman,serif\" font-size=\"14.00\">samples = 13</text>\n",
       "<text text-anchor=\"middle\" x=\"178\" y=\"-215.8\" font-family=\"Times New Roman,serif\" font-size=\"14.00\">value = [12, 1]</text>\n",
       "<text text-anchor=\"middle\" x=\"178\" y=\"-200.8\" font-family=\"Times New Roman,serif\" font-size=\"14.00\">class = setosa</text>\n",
       "</g>\n",
       "<!-- 1&#45;&gt;13 -->\n",
       "<g id=\"edge2\" class=\"edge\">\n",
       "<title>1&#45;&gt;13</title>\n",
       "<path fill=\"none\" stroke=\"black\" d=\"M267.82,-296.88C255.62,-287.53 242.23,-277.26 229.59,-267.57\"/>\n",
       "<polygon fill=\"black\" stroke=\"black\" points=\"231.48,-264.61 221.42,-261.3 227.22,-270.16 231.48,-264.61\"/>\n",
       "</g>\n",
       "<!-- 14 -->\n",
       "<g id=\"node8\" class=\"node\">\n",
       "<title>14</title>\n",
       "<polygon fill=\"#e58139\" stroke=\"black\" points=\"360,-253.5 262,-253.5 262,-200.5 360,-200.5 360,-253.5\"/>\n",
       "<text text-anchor=\"middle\" x=\"311\" y=\"-238.3\" font-family=\"Times New Roman,serif\" font-size=\"14.00\">samples = 32</text>\n",
       "<text text-anchor=\"middle\" x=\"311\" y=\"-223.3\" font-family=\"Times New Roman,serif\" font-size=\"14.00\">value = [32, 0]</text>\n",
       "<text text-anchor=\"middle\" x=\"311\" y=\"-208.3\" font-family=\"Times New Roman,serif\" font-size=\"14.00\">class = setosa</text>\n",
       "</g>\n",
       "<!-- 1&#45;&gt;14 -->\n",
       "<g id=\"edge7\" class=\"edge\">\n",
       "<title>1&#45;&gt;14</title>\n",
       "<path fill=\"none\" stroke=\"black\" d=\"M311,-296.88C311,-286.33 311,-274.6 311,-263.85\"/>\n",
       "<polygon fill=\"black\" stroke=\"black\" points=\"314.5,-263.52 311,-253.52 307.5,-263.52 314.5,-263.52\"/>\n",
       "</g>\n",
       "<!-- 15 -->\n",
       "<g id=\"node4\" class=\"node\">\n",
       "<title>15</title>\n",
       "<polygon fill=\"#e58139\" stroke=\"black\" points=\"98,-149.5 0,-149.5 0,-96.5 98,-96.5 98,-149.5\"/>\n",
       "<text text-anchor=\"middle\" x=\"49\" y=\"-134.3\" font-family=\"Times New Roman,serif\" font-size=\"14.00\">samples = 11</text>\n",
       "<text text-anchor=\"middle\" x=\"49\" y=\"-119.3\" font-family=\"Times New Roman,serif\" font-size=\"14.00\">value = [11, 0]</text>\n",
       "<text text-anchor=\"middle\" x=\"49\" y=\"-104.3\" font-family=\"Times New Roman,serif\" font-size=\"14.00\">class = setosa</text>\n",
       "</g>\n",
       "<!-- 13&#45;&gt;15 -->\n",
       "<g id=\"edge3\" class=\"edge\">\n",
       "<title>13&#45;&gt;15</title>\n",
       "<path fill=\"none\" stroke=\"black\" d=\"M136.12,-192.88C121.1,-181.01 104.2,-167.65 89.31,-155.88\"/>\n",
       "<polygon fill=\"black\" stroke=\"black\" points=\"91.29,-152.98 81.28,-149.52 86.95,-158.47 91.29,-152.98\"/>\n",
       "</g>\n",
       "<!-- 16 -->\n",
       "<g id=\"node5\" class=\"node\">\n",
       "<title>16</title>\n",
       "<polygon fill=\"#ffffff\" stroke=\"black\" points=\"247.5,-157 116.5,-157 116.5,-89 247.5,-89 247.5,-157\"/>\n",
       "<text text-anchor=\"middle\" x=\"182\" y=\"-141.8\" font-family=\"Times New Roman,serif\" font-size=\"14.00\">sepal_width &lt;= 2.35</text>\n",
       "<text text-anchor=\"middle\" x=\"182\" y=\"-126.8\" font-family=\"Times New Roman,serif\" font-size=\"14.00\">samples = 2</text>\n",
       "<text text-anchor=\"middle\" x=\"182\" y=\"-111.8\" font-family=\"Times New Roman,serif\" font-size=\"14.00\">value = [1, 1]</text>\n",
       "<text text-anchor=\"middle\" x=\"182\" y=\"-96.8\" font-family=\"Times New Roman,serif\" font-size=\"14.00\">class = setosa</text>\n",
       "</g>\n",
       "<!-- 13&#45;&gt;16 -->\n",
       "<g id=\"edge4\" class=\"edge\">\n",
       "<title>13&#45;&gt;16</title>\n",
       "<path fill=\"none\" stroke=\"black\" d=\"M179.3,-192.88C179.62,-184.78 179.96,-175.98 180.3,-167.47\"/>\n",
       "<polygon fill=\"black\" stroke=\"black\" points=\"183.8,-167.43 180.69,-157.3 176.8,-167.15 183.8,-167.43\"/>\n",
       "</g>\n",
       "<!-- 17 -->\n",
       "<g id=\"node6\" class=\"node\">\n",
       "<title>17</title>\n",
       "<polygon fill=\"#e58139\" stroke=\"black\" points=\"107.5,-53 12.5,-53 12.5,0 107.5,0 107.5,-53\"/>\n",
       "<text text-anchor=\"middle\" x=\"60\" y=\"-37.8\" font-family=\"Times New Roman,serif\" font-size=\"14.00\">samples = 1</text>\n",
       "<text text-anchor=\"middle\" x=\"60\" y=\"-22.8\" font-family=\"Times New Roman,serif\" font-size=\"14.00\">value = [1, 0]</text>\n",
       "<text text-anchor=\"middle\" x=\"60\" y=\"-7.8\" font-family=\"Times New Roman,serif\" font-size=\"14.00\">class = setosa</text>\n",
       "</g>\n",
       "<!-- 16&#45;&gt;17 -->\n",
       "<g id=\"edge5\" class=\"edge\">\n",
       "<title>16&#45;&gt;17</title>\n",
       "<path fill=\"none\" stroke=\"black\" d=\"M139.33,-88.95C127.05,-79.43 113.67,-69.07 101.46,-59.62\"/>\n",
       "<polygon fill=\"black\" stroke=\"black\" points=\"103.28,-56.59 93.23,-53.24 98.99,-62.13 103.28,-56.59\"/>\n",
       "</g>\n",
       "<!-- 18 -->\n",
       "<g id=\"node7\" class=\"node\">\n",
       "<title>18</title>\n",
       "<polygon fill=\"#399de5\" stroke=\"black\" points=\"242,-53 126,-53 126,0 242,0 242,-53\"/>\n",
       "<text text-anchor=\"middle\" x=\"184\" y=\"-37.8\" font-family=\"Times New Roman,serif\" font-size=\"14.00\">samples = 1</text>\n",
       "<text text-anchor=\"middle\" x=\"184\" y=\"-22.8\" font-family=\"Times New Roman,serif\" font-size=\"14.00\">value = [0, 1]</text>\n",
       "<text text-anchor=\"middle\" x=\"184\" y=\"-7.8\" font-family=\"Times New Roman,serif\" font-size=\"14.00\">class = versicolor</text>\n",
       "</g>\n",
       "<!-- 16&#45;&gt;18 -->\n",
       "<g id=\"edge6\" class=\"edge\">\n",
       "<title>16&#45;&gt;18</title>\n",
       "<path fill=\"none\" stroke=\"black\" d=\"M182.7,-88.95C182.87,-80.72 183.06,-71.85 183.24,-63.48\"/>\n",
       "<polygon fill=\"black\" stroke=\"black\" points=\"186.74,-63.31 183.46,-53.24 179.74,-63.16 186.74,-63.31\"/>\n",
       "</g>\n",
       "<!-- 3 -->\n",
       "<g id=\"node10\" class=\"node\">\n",
       "<title>3</title>\n",
       "<polygon fill=\"#b5daf5\" stroke=\"black\" points=\"524.5,-261 393.5,-261 393.5,-193 524.5,-193 524.5,-261\"/>\n",
       "<text text-anchor=\"middle\" x=\"459\" y=\"-245.8\" font-family=\"Times New Roman,serif\" font-size=\"14.00\">sepal_width &lt;= 3.05</text>\n",
       "<text text-anchor=\"middle\" x=\"459\" y=\"-230.8\" font-family=\"Times New Roman,serif\" font-size=\"14.00\">samples = 13</text>\n",
       "<text text-anchor=\"middle\" x=\"459\" y=\"-215.8\" font-family=\"Times New Roman,serif\" font-size=\"14.00\">value = [5, 8]</text>\n",
       "<text text-anchor=\"middle\" x=\"459\" y=\"-200.8\" font-family=\"Times New Roman,serif\" font-size=\"14.00\">class = versicolor</text>\n",
       "</g>\n",
       "<!-- 2&#45;&gt;3 -->\n",
       "<g id=\"edge9\" class=\"edge\">\n",
       "<title>2&#45;&gt;3</title>\n",
       "<path fill=\"none\" stroke=\"black\" d=\"M459.68,-296.88C459.6,-288.78 459.51,-279.98 459.43,-271.47\"/>\n",
       "<polygon fill=\"black\" stroke=\"black\" points=\"462.92,-271.26 459.33,-261.3 455.92,-271.33 462.92,-271.26\"/>\n",
       "</g>\n",
       "<!-- 4 -->\n",
       "<g id=\"node15\" class=\"node\">\n",
       "<title>4</title>\n",
       "<polygon fill=\"#3e9fe6\" stroke=\"black\" points=\"673.5,-261 542.5,-261 542.5,-193 673.5,-193 673.5,-261\"/>\n",
       "<text text-anchor=\"middle\" x=\"608\" y=\"-245.8\" font-family=\"Times New Roman,serif\" font-size=\"14.00\">sepal_width &lt;= 2.75</text>\n",
       "<text text-anchor=\"middle\" x=\"608\" y=\"-230.8\" font-family=\"Times New Roman,serif\" font-size=\"14.00\">samples = 42</text>\n",
       "<text text-anchor=\"middle\" x=\"608\" y=\"-215.8\" font-family=\"Times New Roman,serif\" font-size=\"14.00\">value = [1, 41]</text>\n",
       "<text text-anchor=\"middle\" x=\"608\" y=\"-200.8\" font-family=\"Times New Roman,serif\" font-size=\"14.00\">class = versicolor</text>\n",
       "</g>\n",
       "<!-- 2&#45;&gt;4 -->\n",
       "<g id=\"edge14\" class=\"edge\">\n",
       "<title>2&#45;&gt;4</title>\n",
       "<path fill=\"none\" stroke=\"black\" d=\"M508.05,-296.88C521.95,-287.3 537.25,-276.76 551.61,-266.86\"/>\n",
       "<polygon fill=\"black\" stroke=\"black\" points=\"553.69,-269.68 559.94,-261.12 549.72,-263.92 553.69,-269.68\"/>\n",
       "</g>\n",
       "<!-- 5 -->\n",
       "<g id=\"node11\" class=\"node\">\n",
       "<title>5</title>\n",
       "<polygon fill=\"#83c2ef\" stroke=\"black\" points=\"405.5,-157 274.5,-157 274.5,-89 405.5,-89 405.5,-157\"/>\n",
       "<text text-anchor=\"middle\" x=\"340\" y=\"-141.8\" font-family=\"Times New Roman,serif\" font-size=\"14.00\">sepal_width &lt;= 2.35</text>\n",
       "<text text-anchor=\"middle\" x=\"340\" y=\"-126.8\" font-family=\"Times New Roman,serif\" font-size=\"14.00\">samples = 11</text>\n",
       "<text text-anchor=\"middle\" x=\"340\" y=\"-111.8\" font-family=\"Times New Roman,serif\" font-size=\"14.00\">value = [3, 8]</text>\n",
       "<text text-anchor=\"middle\" x=\"340\" y=\"-96.8\" font-family=\"Times New Roman,serif\" font-size=\"14.00\">class = versicolor</text>\n",
       "</g>\n",
       "<!-- 3&#45;&gt;5 -->\n",
       "<g id=\"edge10\" class=\"edge\">\n",
       "<title>3&#45;&gt;5</title>\n",
       "<path fill=\"none\" stroke=\"black\" d=\"M420.36,-192.88C409.56,-183.62 397.7,-173.45 386.49,-163.85\"/>\n",
       "<polygon fill=\"black\" stroke=\"black\" points=\"388.72,-161.15 378.85,-157.3 384.16,-166.46 388.72,-161.15\"/>\n",
       "</g>\n",
       "<!-- 6 -->\n",
       "<g id=\"node14\" class=\"node\">\n",
       "<title>6</title>\n",
       "<polygon fill=\"#e58139\" stroke=\"black\" points=\"518.5,-149.5 423.5,-149.5 423.5,-96.5 518.5,-96.5 518.5,-149.5\"/>\n",
       "<text text-anchor=\"middle\" x=\"471\" y=\"-134.3\" font-family=\"Times New Roman,serif\" font-size=\"14.00\">samples = 2</text>\n",
       "<text text-anchor=\"middle\" x=\"471\" y=\"-119.3\" font-family=\"Times New Roman,serif\" font-size=\"14.00\">value = [2, 0]</text>\n",
       "<text text-anchor=\"middle\" x=\"471\" y=\"-104.3\" font-family=\"Times New Roman,serif\" font-size=\"14.00\">class = setosa</text>\n",
       "</g>\n",
       "<!-- 3&#45;&gt;6 -->\n",
       "<g id=\"edge13\" class=\"edge\">\n",
       "<title>3&#45;&gt;6</title>\n",
       "<path fill=\"none\" stroke=\"black\" d=\"M462.9,-192.88C464.15,-182.22 465.55,-170.35 466.82,-159.52\"/>\n",
       "<polygon fill=\"black\" stroke=\"black\" points=\"470.31,-159.86 468,-149.52 463.35,-159.04 470.31,-159.86\"/>\n",
       "</g>\n",
       "<!-- 11 -->\n",
       "<g id=\"node12\" class=\"node\">\n",
       "<title>11</title>\n",
       "<polygon fill=\"#399de5\" stroke=\"black\" points=\"390,-53 274,-53 274,0 390,0 390,-53\"/>\n",
       "<text text-anchor=\"middle\" x=\"332\" y=\"-37.8\" font-family=\"Times New Roman,serif\" font-size=\"14.00\">samples = 1</text>\n",
       "<text text-anchor=\"middle\" x=\"332\" y=\"-22.8\" font-family=\"Times New Roman,serif\" font-size=\"14.00\">value = [0, 1]</text>\n",
       "<text text-anchor=\"middle\" x=\"332\" y=\"-7.8\" font-family=\"Times New Roman,serif\" font-size=\"14.00\">class = versicolor</text>\n",
       "</g>\n",
       "<!-- 5&#45;&gt;11 -->\n",
       "<g id=\"edge11\" class=\"edge\">\n",
       "<title>5&#45;&gt;11</title>\n",
       "<path fill=\"none\" stroke=\"black\" d=\"M337.2,-88.95C336.5,-80.62 335.74,-71.65 335.02,-63.2\"/>\n",
       "<polygon fill=\"black\" stroke=\"black\" points=\"338.51,-62.91 334.18,-53.24 331.53,-63.5 338.51,-62.91\"/>\n",
       "</g>\n",
       "<!-- 12 -->\n",
       "<g id=\"node13\" class=\"node\">\n",
       "<title>12</title>\n",
       "<polygon fill=\"#8ec7f0\" stroke=\"black\" points=\"524,-53 408,-53 408,0 524,0 524,-53\"/>\n",
       "<text text-anchor=\"middle\" x=\"466\" y=\"-37.8\" font-family=\"Times New Roman,serif\" font-size=\"14.00\">samples = 10</text>\n",
       "<text text-anchor=\"middle\" x=\"466\" y=\"-22.8\" font-family=\"Times New Roman,serif\" font-size=\"14.00\">value = [3, 7]</text>\n",
       "<text text-anchor=\"middle\" x=\"466\" y=\"-7.8\" font-family=\"Times New Roman,serif\" font-size=\"14.00\">class = versicolor</text>\n",
       "</g>\n",
       "<!-- 5&#45;&gt;12 -->\n",
       "<g id=\"edge12\" class=\"edge\">\n",
       "<title>5&#45;&gt;12</title>\n",
       "<path fill=\"none\" stroke=\"black\" d=\"M384.07,-88.95C396.88,-79.34 410.83,-68.87 423.54,-59.34\"/>\n",
       "<polygon fill=\"black\" stroke=\"black\" points=\"425.78,-62.04 431.68,-53.24 421.58,-56.44 425.78,-62.04\"/>\n",
       "</g>\n",
       "<!-- 7 -->\n",
       "<g id=\"node16\" class=\"node\">\n",
       "<title>7</title>\n",
       "<polygon fill=\"#5aade9\" stroke=\"black\" points=\"670.5,-157 545.5,-157 545.5,-89 670.5,-89 670.5,-157\"/>\n",
       "<text text-anchor=\"middle\" x=\"608\" y=\"-141.8\" font-family=\"Times New Roman,serif\" font-size=\"14.00\">petal_length &lt;= 5.2</text>\n",
       "<text text-anchor=\"middle\" x=\"608\" y=\"-126.8\" font-family=\"Times New Roman,serif\" font-size=\"14.00\">samples = 7</text>\n",
       "<text text-anchor=\"middle\" x=\"608\" y=\"-111.8\" font-family=\"Times New Roman,serif\" font-size=\"14.00\">value = [1, 6]</text>\n",
       "<text text-anchor=\"middle\" x=\"608\" y=\"-96.8\" font-family=\"Times New Roman,serif\" font-size=\"14.00\">class = versicolor</text>\n",
       "</g>\n",
       "<!-- 4&#45;&gt;7 -->\n",
       "<g id=\"edge15\" class=\"edge\">\n",
       "<title>4&#45;&gt;7</title>\n",
       "<path fill=\"none\" stroke=\"black\" d=\"M608,-192.88C608,-184.78 608,-175.98 608,-167.47\"/>\n",
       "<polygon fill=\"black\" stroke=\"black\" points=\"611.5,-167.3 608,-157.3 604.5,-167.3 611.5,-167.3\"/>\n",
       "</g>\n",
       "<!-- 8 -->\n",
       "<g id=\"node19\" class=\"node\">\n",
       "<title>8</title>\n",
       "<polygon fill=\"#399de5\" stroke=\"black\" points=\"805,-149.5 689,-149.5 689,-96.5 805,-96.5 805,-149.5\"/>\n",
       "<text text-anchor=\"middle\" x=\"747\" y=\"-134.3\" font-family=\"Times New Roman,serif\" font-size=\"14.00\">samples = 35</text>\n",
       "<text text-anchor=\"middle\" x=\"747\" y=\"-119.3\" font-family=\"Times New Roman,serif\" font-size=\"14.00\">value = [0, 35]</text>\n",
       "<text text-anchor=\"middle\" x=\"747\" y=\"-104.3\" font-family=\"Times New Roman,serif\" font-size=\"14.00\">class = versicolor</text>\n",
       "</g>\n",
       "<!-- 4&#45;&gt;8 -->\n",
       "<g id=\"edge18\" class=\"edge\">\n",
       "<title>4&#45;&gt;8</title>\n",
       "<path fill=\"none\" stroke=\"black\" d=\"M653.13,-192.88C669.47,-180.9 687.86,-167.4 704.01,-155.55\"/>\n",
       "<polygon fill=\"black\" stroke=\"black\" points=\"706.23,-158.26 712.22,-149.52 702.09,-152.61 706.23,-158.26\"/>\n",
       "</g>\n",
       "<!-- 9 -->\n",
       "<g id=\"node17\" class=\"node\">\n",
       "<title>9</title>\n",
       "<polygon fill=\"#9ccef2\" stroke=\"black\" points=\"665,-53 549,-53 549,0 665,0 665,-53\"/>\n",
       "<text text-anchor=\"middle\" x=\"607\" y=\"-37.8\" font-family=\"Times New Roman,serif\" font-size=\"14.00\">samples = 3</text>\n",
       "<text text-anchor=\"middle\" x=\"607\" y=\"-22.8\" font-family=\"Times New Roman,serif\" font-size=\"14.00\">value = [1, 2]</text>\n",
       "<text text-anchor=\"middle\" x=\"607\" y=\"-7.8\" font-family=\"Times New Roman,serif\" font-size=\"14.00\">class = versicolor</text>\n",
       "</g>\n",
       "<!-- 7&#45;&gt;9 -->\n",
       "<g id=\"edge16\" class=\"edge\">\n",
       "<title>7&#45;&gt;9</title>\n",
       "<path fill=\"none\" stroke=\"black\" d=\"M607.65,-88.95C607.56,-80.72 607.47,-71.85 607.38,-63.48\"/>\n",
       "<polygon fill=\"black\" stroke=\"black\" points=\"610.88,-63.2 607.27,-53.24 603.88,-63.27 610.88,-63.2\"/>\n",
       "</g>\n",
       "<!-- 10 -->\n",
       "<g id=\"node18\" class=\"node\">\n",
       "<title>10</title>\n",
       "<polygon fill=\"#399de5\" stroke=\"black\" points=\"799,-53 683,-53 683,0 799,0 799,-53\"/>\n",
       "<text text-anchor=\"middle\" x=\"741\" y=\"-37.8\" font-family=\"Times New Roman,serif\" font-size=\"14.00\">samples = 4</text>\n",
       "<text text-anchor=\"middle\" x=\"741\" y=\"-22.8\" font-family=\"Times New Roman,serif\" font-size=\"14.00\">value = [0, 4]</text>\n",
       "<text text-anchor=\"middle\" x=\"741\" y=\"-7.8\" font-family=\"Times New Roman,serif\" font-size=\"14.00\">class = versicolor</text>\n",
       "</g>\n",
       "<!-- 7&#45;&gt;10 -->\n",
       "<g id=\"edge17\" class=\"edge\">\n",
       "<title>7&#45;&gt;10</title>\n",
       "<path fill=\"none\" stroke=\"black\" d=\"M654.52,-88.95C668.16,-79.25 683.05,-68.68 696.56,-59.07\"/>\n",
       "<polygon fill=\"black\" stroke=\"black\" points=\"698.65,-61.88 704.78,-53.24 694.6,-56.18 698.65,-61.88\"/>\n",
       "</g>\n",
       "</g>\n",
       "</svg>\n"
      ],
      "text/plain": [
       "<graphviz.sources.Source at 0x213f3c47370>"
      ]
     },
     "metadata": {},
     "output_type": "display_data"
    }
   ],
   "source": [
    "export_graphviz(model, out_file='tree.dot', class_names=iris.target_names,\n",
    "                feature_names=['sepal_width','petal_length'], impurity=False, filled=True)\n",
    "\n",
    "with open('tree.dot') as f:\n",
    "    dot_graph=f.read()\n",
    "display(graphviz.Source(dot_graph))"
   ]
  },
  {
   "cell_type": "code",
   "execution_count": null,
   "id": "6ecca607",
   "metadata": {},
   "outputs": [],
   "source": []
  },
  {
   "cell_type": "markdown",
   "id": "e284e5cb",
   "metadata": {},
   "source": [
    "### 과적합(Over-Fitting) 이슈\n",
    "- max_depth 값이 클수록 트리와 경계선이 복잡해진다\n",
    "- 경계선이 무한히 복잡해질수록 **예측능력** 도 좋아질까?\n",
    "- 모델은 너무 단순해도 좋지 않지만, **너무 복잡해도 문제**가 발생한다"
   ]
  },
  {
   "cell_type": "code",
   "execution_count": null,
   "id": "fa82787f",
   "metadata": {},
   "outputs": [],
   "source": []
  }
 ],
 "metadata": {
  "kernelspec": {
   "display_name": "Python 3",
   "language": "python",
   "name": "python3"
  },
  "language_info": {
   "codemirror_mode": {
    "name": "ipython",
    "version": 3
   },
   "file_extension": ".py",
   "mimetype": "text/x-python",
   "name": "python",
   "nbconvert_exporter": "python",
   "pygments_lexer": "ipython3",
   "version": "3.8.8"
  }
 },
 "nbformat": 4,
 "nbformat_minor": 5
}
